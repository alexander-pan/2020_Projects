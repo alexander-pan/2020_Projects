{
 "cells": [
  {
   "cell_type": "code",
   "execution_count": 1,
   "metadata": {
    "ExecuteTime": {
     "end_time": "2020-02-10T17:42:34.229154Z",
     "start_time": "2020-02-10T17:42:33.685660Z"
    }
   },
   "outputs": [],
   "source": [
    "import numpy as np\n",
    "import pandas as pd\n",
    "from datetime import datetime,timedelta\n",
    "from dateutil import relativedelta\n",
    "import matplotlib.pyplot as plt\n",
    "import seaborn as sns\n",
    "\n",
    "#sklearn \n",
    "from sklearn.base import BaseEstimator, TransformerMixin, ClassifierMixin\n",
    "from sklearn.metrics import r2_score, mean_squared_error, classification_report,confusion_matrix, roc_curve, auc\n",
    "from sklearn.preprocessing import FunctionTransformer, OneHotEncoder, StandardScaler\n",
    "from sklearn.model_selection import GridSearchCV,train_test_split,cross_val_score,ShuffleSplit\n",
    "from sklearn.pipeline import Pipeline, FeatureUnion\n",
    "from sklearn.linear_model import LinearRegression,LassoLars,Ridge\n",
    "from sklearn.ensemble import GradientBoostingRegressor\n",
    "#from sklearn.decomposition import PCA,TruncatedSVD\n",
    "from scipy import stats\n",
    "\n",
    "from IPython.display import display, HTML, Image\n",
    "from subprocess import call\n",
    "import gc\n",
    "\n",
    "pd.set_option('display.max_rows', 500)\n",
    "pd.set_option('display.max_columns', 500)\n",
    "pd.set_option('display.width', 1000)\n",
    "pd.options.display.max_colwidth = 100"
   ]
  },
  {
   "cell_type": "markdown",
   "metadata": {},
   "source": [
    "# Introduction"
   ]
  },
  {
   "cell_type": "markdown",
   "metadata": {},
   "source": [
    "This notebook showcases the work and investigation of trying to predict the total amount to be expected in July 2019. By July 2019, there are 4981 pets enrolled. Throughout this assessment I wanted to showcase my skills as a data scientist. I wanted to show my technical, analytical, qualitative, and writing work. \n",
    "\n",
    "For my technical skills, I wanted to show my computer science, data engineering, and work with various machine learning functions. The functions can be shown in the section \"Functions\". I created a few custom transformers and evaluation functions. The custom transformers are to showcase my ability to create and develop pipelines for machine learning models that incorporate categorical and numerical features. My evaluation function allows me to recreate model evaluations using different models. Finally, I do quite a bit of data pre-processing using pandas. Ideally, I would normally use SQL to pre-process most of my work as window functions are more intuitive. \n",
    "\n",
    "For my analytical and qualitative work, I showcase some initial exploratory analysis on the datasets I compiled and processed. I wanted to show some skills such as anomaly detection on the basic level. Especially, for a company in the insurance industry where there are anomalies/outliers when it comes to claims. I primarily wanted to showcase the exploration process and how visualizing data in various forms can lead to interesting results and show relationships that can be essential to modeling. \n",
    "\n",
    "Finally, I wanted to do two different approaches which I will call strategy 1 and 2. Strategy 1 will be a model that tries to predict pet id claim amounts based on input features. This approach uses a date - pet level data. I primarily wanted to show that I do have some experience with feature generation, and also show that feature generation is a process that is trying to optimize models. I realize this is most likely not the best approach because claim amounts on a pet level are related to better features that I did not have information. As a result, this strategy is a perfect example of showing that no matter what kind of model is created if the data itself doesn't have any success the resulting models will not. \n",
    "\n",
    "Strategy 2 creates a model based on month,year level and uses relationships of claim amounts vs. date as a function to create a linear regression. This strategy was devised based on the relationship from the EDA that time behaves with a linear relationship with total claim amounts. This model did overfit with a explained variance scores: Train Score = 0.97 and Test Score = 0.92. \n",
    "\n",
    "If I had extra time and data to do this type of project, I would want more features on the pet level. Features that can describe reason for visit, severity of claim, etc. This pet level data would be ideal to try to predict claim amounts on the pet level. Finally, its true that the question could have been solved quickly with the second strategy, but to do something quickly and simply doesn't showcase the skills that I possess as a data scientist. I wanted to show what I am capable of and that I can be useful to the company. I wanted to go above and beyond for this question and explore a little and understand the company itself."
   ]
  },
  {
   "cell_type": "markdown",
   "metadata": {
    "heading_collapsed": true
   },
   "source": [
    "# Functions"
   ]
  },
  {
   "cell_type": "code",
   "execution_count": 27,
   "metadata": {
    "ExecuteTime": {
     "end_time": "2020-02-10T17:56:32.877812Z",
     "start_time": "2020-02-10T17:56:32.866582Z"
    },
    "hidden": true
   },
   "outputs": [],
   "source": [
    "class ColumnSelector(TransformerMixin):\n",
    "    def __init__(self,cols):\n",
    "        self.cols = cols\n",
    "\n",
    "    def transform(self, X, y=None):\n",
    "        return X[self.cols]\n",
    "\n",
    "    def fit(self, X, y=None):\n",
    "        return self\n",
    "\n",
    "    def get_feature_names(self):\n",
    "        return X[self.cols].columns.tolist()\n",
    "\n",
    "def build_dummies(dataframe,feats):\n",
    "    df = pd.DataFrame()\n",
    "    for feat in feats:\n",
    "        df = pd.concat([df,pd.get_dummies(dataframe[feat],prefix=feat)],axis=1,sort=False)\n",
    "    df = pd.concat([dataframe,df],axis=1,sort=False)\n",
    "    df.drop(feats,axis=1,inplace=True)\n",
    "    return df\n",
    "\n",
    "def best_params(grid):\n",
    "    best_index = grid.best_index_\n",
    "    train_score = grid.cv_results_['mean_train_score'][best_index]\n",
    "    estimator = grid.best_estimator_\n",
    "    params = grid.best_params_\n",
    "    #pca = grid.best_estimator_.steps[1][1]\n",
    "    model = grid.best_estimator_.steps[2][1]\n",
    "    test_score = grid.best_score_\n",
    "    return estimator,model,params,test_score,train_score\n",
    "\n",
    "def compute_error(est,X,y,cv):\n",
    "    return -cross_val_score(est,X,y,cv=cv,scoring='neg_mean_absolute_error').mean()\n",
    "\n",
    "def RegModelEval(DF,n=100,show=False,output='none'):\n",
    "    df = DF.sample(n=n)\n",
    "    y = df[output]\n",
    "    y_pred = df.pred_out\n",
    "    print('R^2 Test: {:.5f}'.format(r2_score(y,y_pred)))\n",
    "    print('RMSE Test: {:.5f}'.format(mean_squared_error(y,y_pred,squared=False)))\n",
    "\n",
    "    if show:\n",
    "        plt.rcParams['figure.figsize'] = (8, 8)\n",
    "        plt.scatter(y_pred[:n],(y_pred[:n]-y[:n]),c='lightgreen',marker='s',label='Test_data')\n",
    "        plt.xlabel('Predicted Values')\n",
    "        plt.ylabel('Residuals')\n",
    "        plt.legend(loc='upper left')\n",
    "        #plt.hlines(y=0,xmin=-10,xmax=10,color='red',lw=2,linestyle='-')\n",
    "        #plt.xlim([-1,1])\n",
    "        plt.show()"
   ]
  },
  {
   "cell_type": "markdown",
   "metadata": {
    "heading_collapsed": true
   },
   "source": [
    "# Data Processing"
   ]
  },
  {
   "cell_type": "code",
   "execution_count": 56,
   "metadata": {
    "ExecuteTime": {
     "end_time": "2020-02-10T18:18:17.071860Z",
     "start_time": "2020-02-10T18:18:17.028458Z"
    },
    "hidden": true
   },
   "outputs": [],
   "source": [
    "#normally I would use SQL to join and put together tables\n",
    "#as window functions are much easier to do in SQL vs. pandas/python\n",
    "claim_df = pd.read_csv('./claimdata.csv',parse_dates=['ClaimDate'])\n",
    "pet_df = pd.read_csv('./petdata.csv',parse_dates=['EnrollDate','CancelDate'])\n",
    "DF = claim_df.merge(pet_df,on='PetId')\n",
    "\n",
    "#eliminate any large or small outliers\n",
    "DF.sort_values(by=['PetId','ClaimDate'],inplace=True)\n",
    "pet_df.sort_values('EnrollDate',inplace=True)"
   ]
  },
  {
   "cell_type": "code",
   "execution_count": 57,
   "metadata": {
    "ExecuteTime": {
     "end_time": "2020-02-10T18:18:29.600752Z",
     "start_time": "2020-02-10T18:18:17.305891Z"
    },
    "hidden": true
   },
   "outputs": [],
   "source": [
    "#for each enroll date, count how many petids are enrolled at that current date\n",
    "#count each cancelled petid and subtract that from the total enrolled by that date\n",
    "stats = {}\n",
    "for i,row in pet_df.iterrows():\n",
    "    date = row.EnrollDate\n",
    "    enroll_ct = pet_df.loc[pet_df.EnrollDate <= date].shape[0]\n",
    "    cancelled_ct = pet_df.loc[pet_df.CancelDate <= date].shape[0]\n",
    "    current_enrolled = enroll_ct - cancelled_ct\n",
    "    if date not in stats:\n",
    "        stats[date] = current_enrolled\n",
    "enroll_df = pd.DataFrame(stats.items(),columns=['Date','Enrolled'])\n",
    "enroll_df['Month'] = enroll_df.apply(lambda row: row.Date.month_name(),axis=1)\n",
    "enroll_df['Year'] = enroll_df.apply(lambda row: row.Date.year,axis=1)\n",
    "enroll_df = enroll_df.groupby(['Year','Month']).max().sort_values('Date').reset_index()"
   ]
  },
  {
   "cell_type": "markdown",
   "metadata": {
    "hidden": true
   },
   "source": [
    "## Dataset for Strategy 1"
   ]
  },
  {
   "cell_type": "code",
   "execution_count": 58,
   "metadata": {
    "ExecuteTime": {
     "end_time": "2020-02-10T18:18:40.095242Z",
     "start_time": "2020-02-10T18:18:29.602544Z"
    },
    "hidden": true
   },
   "outputs": [
    {
     "data": {
      "text/plain": [
       "'\\nUnused Code/Features\\nThis code below is unused. I originally tried to incorporate quarterly features\\nBut found this to not really do anything. \\n'"
      ]
     },
     "execution_count": 58,
     "metadata": {},
     "output_type": "execute_result"
    }
   ],
   "source": [
    "#Feature Generation\n",
    "ages = {'0-7 weeks old': 0,\n",
    "        '8 weeks to 12 months old': .5, \n",
    "        '1 year old': 1,\n",
    "        '2 years old': 2,\n",
    "        '3 years old': 3,\n",
    "        '4 years old': 4,\n",
    "        '5 years old': 5,\n",
    "        '6 years old': 6,\n",
    "        '7 years old': 7,\n",
    "        '8 years old': 8,\n",
    "        '9 years old': 9,\n",
    "        '10 years old': 10,\n",
    "        '11 years old': 11,\n",
    "        '12 years old': 12,\n",
    "        '13 years old': 13}\n",
    "DF['Quarter'] = DF.apply(lambda row: row.ClaimDate.quarter,axis=1)\n",
    "DF['ClaimMonth'] = DF.apply(lambda row: row.ClaimDate.month_name(),axis=1)\n",
    "DF['ClaimMonthNum'] = DF.apply(lambda row: row.ClaimDate.month,axis=1)\n",
    "DF['ClaimYear']  = DF.apply(lambda row: row.ClaimDate.year,axis=1)\n",
    "DF['EnrollMonth'] = DF.apply(lambda row: row.EnrollDate.month_name(),axis=1)\n",
    "DF['EnrollYear'] = DF.apply(lambda row: row.EnrollDate.year,axis=1)\n",
    "DF['EstEnrollAge'] = DF.apply(lambda row: ages[row.AgeAtEnroll],axis=1)\n",
    "DF['DaysFromEnroll'] = DF.apply(lambda row:(row.ClaimDate-row.EnrollDate).days , axis=1)\n",
    "DF['YearsFromEnroll'] = round(DF.DaysFromEnroll/365.0).astype(int)\n",
    "DF['MonthsFromEnroll'] = DF.apply(lambda row:int(round((row.ClaimDate-row.EnrollDate).days/365*12)) , axis=1)\n",
    "DF['EstCurrentAge'] = DF.EstEnrollAge+DF.YearsFromEnroll\n",
    "DF['Cancelled'] = DF.apply(lambda row: 'No' if row.CancelDate is pd.NaT else 'Yes',axis=1)\n",
    "DF['PreviousClaims'] = (DF.groupby('PetId').ClaimDate.rank(method='min')-1).astype(int)\n",
    "DF['PreviousClaimsYear'] = (DF.groupby(['PetId','ClaimYear']).ClaimDate.rank(method='min')-1).astype(int)\n",
    "\n",
    "\n",
    "#Get Avg visits per year for petId \n",
    "#Get Avg Claim Amt per visit per year\n",
    "visit_df = DF.groupby(['PetId','ClaimYear'])[['ClaimId']].count().groupby('PetId').mean()\n",
    "claim_amt_avg = DF.groupby(['PetId','ClaimYear'])[['ClaimAmount']].sum().groupby('PetId').mean()\n",
    "df1 = visit_df.merge(claim_amt_avg,on='PetId')\n",
    "df1.rename(columns={'ClaimId': 'AvgYearlyVisits','ClaimAmount':'AvgYearlyClaimAmt'},inplace=True)\n",
    "\n",
    "#get average claim amount for breed & species\n",
    "breed_df = DF.groupby(['Breed','Species'])[['ClaimAmount']].mean()\n",
    "breed_df.rename(columns={'ClaimAmount': 'AvgYearlyBreedSpeciesClaimAmt'},inplace=True)\n",
    "DF = DF.merge(breed_df,on=['Breed','Species'])\n",
    "\n",
    "#Create Final table\n",
    "DF = DF.merge(df1,on='PetId')\n",
    "DF = DF.loc[DF.ClaimAmount.between(DF.ClaimAmount.quantile(.25),DF.ClaimAmount.quantile(.75))]\n",
    "\n",
    "#clear/free memory\n",
    "del [visit_df,claim_amt_avg,df1,breed_df,claim_df]\n",
    "gc.collect()\n",
    "\n",
    "\"\"\"\n",
    "Unused Code/Features\n",
    "This code below is unused. I originally tried to incorporate quarterly features\n",
    "But found this to not really do anything. \n",
    "\"\"\"\n",
    "#Create Aggregate of Quarterly ClaimAmt Totals\n",
    "#sum amount is based on quarter, year, breed, ageatenroll, and species\n",
    "#quarter_claimamt = DF.groupby(['Quarter','ClaimYear','Breed','Species','AgeAtEnroll']).ClaimAmount.sum().reset_index()\n",
    "#quarter_claimamt.rename(columns={'ClaimAmount':'QuarterClaimAmtTotal'},inplace=True)\n",
    "#DF = DF.merge(quarter_claimamt,on=['Quarter','ClaimYear','Breed','Species','AgeAtEnroll'])  \n",
    "\n",
    "#Create Quarterly Stats Features\n",
    "#DF['QuarterAmt%'] = DF.PetQAmtTotal/DF.QuarterClaimAmtTotal\n",
    "#DF['PetQAmtTotal'] = DF.groupby(['PetId','Quarter','ClaimYear']).ClaimAmount.apply(lambda row: row.shift().cumsum())\n",
    "#DF.PetQAmtTotal.fillna(0,inplace=True)"
   ]
  },
  {
   "cell_type": "markdown",
   "metadata": {
    "heading_collapsed": true,
    "hidden": true
   },
   "source": [
    "## Dataset for Strategy 2"
   ]
  },
  {
   "cell_type": "code",
   "execution_count": 50,
   "metadata": {
    "ExecuteTime": {
     "end_time": "2020-02-10T18:10:50.811280Z",
     "start_time": "2020-02-10T18:10:48.297574Z"
    },
    "hidden": true,
    "scrolled": true
   },
   "outputs": [
    {
     "data": {
      "text/plain": [
       "0"
      ]
     },
     "execution_count": 50,
     "metadata": {},
     "output_type": "execute_result"
    }
   ],
   "source": [
    "#Feature Generation for strategy 2\n",
    "DF['ClaimMonth'] = DF.apply(lambda row: row.ClaimDate.month_name(),axis=1)\n",
    "DF['ClaimMonthNum'] = DF.apply(lambda row: row.ClaimDate.month,axis=1)\n",
    "DF['ClaimYear']  = DF.apply(lambda row: row.ClaimDate.year,axis=1)\n",
    "\n",
    "#Get ClaimMonth,ClaimYear statistics\n",
    "#Get Avg visits for each month,year\n",
    "#Get Avg Claim Amt for each month,year\n",
    "#Get number of active PetIds that are enrolled\n",
    "visit_df = DF.groupby(['ClaimMonth','ClaimYear'])[['ClaimId']].count().reset_index()\n",
    "claim_amt_total = DF.groupby(['ClaimMonth','ClaimYear'])[['ClaimAmount']].sum().reset_index()\n",
    "df1 = visit_df.merge(claim_amt_total,on=['ClaimMonth','ClaimYear'])\n",
    "df1.rename(columns={'ClaimId': 'TotalVisits','ClaimAmount':'ClaimAmtTotal'},inplace=True)\n",
    "\n",
    "#Create Final table\n",
    "DF = df1.merge(enroll_df,left_on=['ClaimMonth','ClaimYear'],right_on=['Month','Year'])\n",
    "\n",
    "#clear/free memory\n",
    "del [visit_df,claim_amt_total,df1,claim_df]\n",
    "gc.collect()\n"
   ]
  },
  {
   "cell_type": "code",
   "execution_count": 51,
   "metadata": {
    "ExecuteTime": {
     "end_time": "2020-02-10T18:10:54.282685Z",
     "start_time": "2020-02-10T18:10:54.255565Z"
    },
    "hidden": true
   },
   "outputs": [
    {
     "data": {
      "text/html": [
       "<div>\n",
       "<style scoped>\n",
       "    .dataframe tbody tr th:only-of-type {\n",
       "        vertical-align: middle;\n",
       "    }\n",
       "\n",
       "    .dataframe tbody tr th {\n",
       "        vertical-align: top;\n",
       "    }\n",
       "\n",
       "    .dataframe thead th {\n",
       "        text-align: right;\n",
       "    }\n",
       "</style>\n",
       "<table border=\"1\" class=\"dataframe\">\n",
       "  <thead>\n",
       "    <tr style=\"text-align: right;\">\n",
       "      <th></th>\n",
       "      <th>ClaimMonth</th>\n",
       "      <th>ClaimYear</th>\n",
       "      <th>TotalVisits</th>\n",
       "      <th>ClaimAmtTotal</th>\n",
       "      <th>Year</th>\n",
       "      <th>Month</th>\n",
       "      <th>Date</th>\n",
       "      <th>Enrolled</th>\n",
       "    </tr>\n",
       "  </thead>\n",
       "  <tbody>\n",
       "    <tr>\n",
       "      <th>38</th>\n",
       "      <td>January</td>\n",
       "      <td>2010</td>\n",
       "      <td>7</td>\n",
       "      <td>708.98</td>\n",
       "      <td>2010</td>\n",
       "      <td>January</td>\n",
       "      <td>2010-01-31</td>\n",
       "      <td>66</td>\n",
       "    </tr>\n",
       "    <tr>\n",
       "      <th>28</th>\n",
       "      <td>February</td>\n",
       "      <td>2010</td>\n",
       "      <td>7</td>\n",
       "      <td>785.02</td>\n",
       "      <td>2010</td>\n",
       "      <td>February</td>\n",
       "      <td>2010-02-28</td>\n",
       "      <td>92</td>\n",
       "    </tr>\n",
       "    <tr>\n",
       "      <th>67</th>\n",
       "      <td>March</td>\n",
       "      <td>2010</td>\n",
       "      <td>1</td>\n",
       "      <td>75.90</td>\n",
       "      <td>2010</td>\n",
       "      <td>March</td>\n",
       "      <td>2010-03-31</td>\n",
       "      <td>109</td>\n",
       "    </tr>\n",
       "    <tr>\n",
       "      <th>0</th>\n",
       "      <td>April</td>\n",
       "      <td>2010</td>\n",
       "      <td>7</td>\n",
       "      <td>904.91</td>\n",
       "      <td>2010</td>\n",
       "      <td>April</td>\n",
       "      <td>2010-04-30</td>\n",
       "      <td>146</td>\n",
       "    </tr>\n",
       "    <tr>\n",
       "      <th>77</th>\n",
       "      <td>May</td>\n",
       "      <td>2010</td>\n",
       "      <td>10</td>\n",
       "      <td>1219.05</td>\n",
       "      <td>2010</td>\n",
       "      <td>May</td>\n",
       "      <td>2010-05-31</td>\n",
       "      <td>181</td>\n",
       "    </tr>\n",
       "    <tr>\n",
       "      <th>57</th>\n",
       "      <td>June</td>\n",
       "      <td>2010</td>\n",
       "      <td>17</td>\n",
       "      <td>3969.60</td>\n",
       "      <td>2010</td>\n",
       "      <td>June</td>\n",
       "      <td>2010-06-29</td>\n",
       "      <td>229</td>\n",
       "    </tr>\n",
       "    <tr>\n",
       "      <th>48</th>\n",
       "      <td>July</td>\n",
       "      <td>2010</td>\n",
       "      <td>23</td>\n",
       "      <td>11179.47</td>\n",
       "      <td>2010</td>\n",
       "      <td>July</td>\n",
       "      <td>2010-07-31</td>\n",
       "      <td>280</td>\n",
       "    </tr>\n",
       "    <tr>\n",
       "      <th>10</th>\n",
       "      <td>August</td>\n",
       "      <td>2010</td>\n",
       "      <td>24</td>\n",
       "      <td>12113.15</td>\n",
       "      <td>2010</td>\n",
       "      <td>August</td>\n",
       "      <td>2010-08-31</td>\n",
       "      <td>313</td>\n",
       "    </tr>\n",
       "    <tr>\n",
       "      <th>105</th>\n",
       "      <td>September</td>\n",
       "      <td>2010</td>\n",
       "      <td>23</td>\n",
       "      <td>10138.17</td>\n",
       "      <td>2010</td>\n",
       "      <td>September</td>\n",
       "      <td>2010-09-30</td>\n",
       "      <td>349</td>\n",
       "    </tr>\n",
       "    <tr>\n",
       "      <th>96</th>\n",
       "      <td>October</td>\n",
       "      <td>2010</td>\n",
       "      <td>22</td>\n",
       "      <td>3628.63</td>\n",
       "      <td>2010</td>\n",
       "      <td>October</td>\n",
       "      <td>2010-10-31</td>\n",
       "      <td>411</td>\n",
       "    </tr>\n",
       "    <tr>\n",
       "      <th>87</th>\n",
       "      <td>November</td>\n",
       "      <td>2010</td>\n",
       "      <td>32</td>\n",
       "      <td>8936.59</td>\n",
       "      <td>2010</td>\n",
       "      <td>November</td>\n",
       "      <td>2010-11-30</td>\n",
       "      <td>442</td>\n",
       "    </tr>\n",
       "    <tr>\n",
       "      <th>19</th>\n",
       "      <td>December</td>\n",
       "      <td>2010</td>\n",
       "      <td>37</td>\n",
       "      <td>10161.66</td>\n",
       "      <td>2010</td>\n",
       "      <td>December</td>\n",
       "      <td>2010-12-31</td>\n",
       "      <td>472</td>\n",
       "    </tr>\n",
       "    <tr>\n",
       "      <th>39</th>\n",
       "      <td>January</td>\n",
       "      <td>2011</td>\n",
       "      <td>35</td>\n",
       "      <td>11463.88</td>\n",
       "      <td>2011</td>\n",
       "      <td>January</td>\n",
       "      <td>2011-01-31</td>\n",
       "      <td>524</td>\n",
       "    </tr>\n",
       "    <tr>\n",
       "      <th>29</th>\n",
       "      <td>February</td>\n",
       "      <td>2011</td>\n",
       "      <td>25</td>\n",
       "      <td>7974.00</td>\n",
       "      <td>2011</td>\n",
       "      <td>February</td>\n",
       "      <td>2011-02-28</td>\n",
       "      <td>581</td>\n",
       "    </tr>\n",
       "    <tr>\n",
       "      <th>68</th>\n",
       "      <td>March</td>\n",
       "      <td>2011</td>\n",
       "      <td>46</td>\n",
       "      <td>30193.63</td>\n",
       "      <td>2011</td>\n",
       "      <td>March</td>\n",
       "      <td>2011-03-31</td>\n",
       "      <td>616</td>\n",
       "    </tr>\n",
       "    <tr>\n",
       "      <th>1</th>\n",
       "      <td>April</td>\n",
       "      <td>2011</td>\n",
       "      <td>58</td>\n",
       "      <td>16601.50</td>\n",
       "      <td>2011</td>\n",
       "      <td>April</td>\n",
       "      <td>2011-04-30</td>\n",
       "      <td>655</td>\n",
       "    </tr>\n",
       "    <tr>\n",
       "      <th>78</th>\n",
       "      <td>May</td>\n",
       "      <td>2011</td>\n",
       "      <td>65</td>\n",
       "      <td>29681.70</td>\n",
       "      <td>2011</td>\n",
       "      <td>May</td>\n",
       "      <td>2011-05-31</td>\n",
       "      <td>698</td>\n",
       "    </tr>\n",
       "    <tr>\n",
       "      <th>58</th>\n",
       "      <td>June</td>\n",
       "      <td>2011</td>\n",
       "      <td>57</td>\n",
       "      <td>19235.16</td>\n",
       "      <td>2011</td>\n",
       "      <td>June</td>\n",
       "      <td>2011-06-30</td>\n",
       "      <td>736</td>\n",
       "    </tr>\n",
       "    <tr>\n",
       "      <th>49</th>\n",
       "      <td>July</td>\n",
       "      <td>2011</td>\n",
       "      <td>74</td>\n",
       "      <td>22708.98</td>\n",
       "      <td>2011</td>\n",
       "      <td>July</td>\n",
       "      <td>2011-07-31</td>\n",
       "      <td>785</td>\n",
       "    </tr>\n",
       "    <tr>\n",
       "      <th>11</th>\n",
       "      <td>August</td>\n",
       "      <td>2011</td>\n",
       "      <td>67</td>\n",
       "      <td>31355.95</td>\n",
       "      <td>2011</td>\n",
       "      <td>August</td>\n",
       "      <td>2011-08-31</td>\n",
       "      <td>826</td>\n",
       "    </tr>\n",
       "    <tr>\n",
       "      <th>106</th>\n",
       "      <td>September</td>\n",
       "      <td>2011</td>\n",
       "      <td>68</td>\n",
       "      <td>41751.82</td>\n",
       "      <td>2011</td>\n",
       "      <td>September</td>\n",
       "      <td>2011-09-30</td>\n",
       "      <td>853</td>\n",
       "    </tr>\n",
       "    <tr>\n",
       "      <th>97</th>\n",
       "      <td>October</td>\n",
       "      <td>2011</td>\n",
       "      <td>69</td>\n",
       "      <td>20930.89</td>\n",
       "      <td>2011</td>\n",
       "      <td>October</td>\n",
       "      <td>2011-10-31</td>\n",
       "      <td>884</td>\n",
       "    </tr>\n",
       "    <tr>\n",
       "      <th>88</th>\n",
       "      <td>November</td>\n",
       "      <td>2011</td>\n",
       "      <td>90</td>\n",
       "      <td>29015.34</td>\n",
       "      <td>2011</td>\n",
       "      <td>November</td>\n",
       "      <td>2011-11-28</td>\n",
       "      <td>931</td>\n",
       "    </tr>\n",
       "    <tr>\n",
       "      <th>20</th>\n",
       "      <td>December</td>\n",
       "      <td>2011</td>\n",
       "      <td>88</td>\n",
       "      <td>37255.73</td>\n",
       "      <td>2011</td>\n",
       "      <td>December</td>\n",
       "      <td>2011-12-31</td>\n",
       "      <td>975</td>\n",
       "    </tr>\n",
       "    <tr>\n",
       "      <th>40</th>\n",
       "      <td>January</td>\n",
       "      <td>2012</td>\n",
       "      <td>84</td>\n",
       "      <td>42980.69</td>\n",
       "      <td>2012</td>\n",
       "      <td>January</td>\n",
       "      <td>2012-01-30</td>\n",
       "      <td>1019</td>\n",
       "    </tr>\n",
       "    <tr>\n",
       "      <th>30</th>\n",
       "      <td>February</td>\n",
       "      <td>2012</td>\n",
       "      <td>78</td>\n",
       "      <td>20888.25</td>\n",
       "      <td>2012</td>\n",
       "      <td>February</td>\n",
       "      <td>2012-02-29</td>\n",
       "      <td>1059</td>\n",
       "    </tr>\n",
       "    <tr>\n",
       "      <th>69</th>\n",
       "      <td>March</td>\n",
       "      <td>2012</td>\n",
       "      <td>82</td>\n",
       "      <td>38956.06</td>\n",
       "      <td>2012</td>\n",
       "      <td>March</td>\n",
       "      <td>2012-03-31</td>\n",
       "      <td>1129</td>\n",
       "    </tr>\n",
       "    <tr>\n",
       "      <th>2</th>\n",
       "      <td>April</td>\n",
       "      <td>2012</td>\n",
       "      <td>118</td>\n",
       "      <td>34589.71</td>\n",
       "      <td>2012</td>\n",
       "      <td>April</td>\n",
       "      <td>2012-04-30</td>\n",
       "      <td>1166</td>\n",
       "    </tr>\n",
       "    <tr>\n",
       "      <th>79</th>\n",
       "      <td>May</td>\n",
       "      <td>2012</td>\n",
       "      <td>130</td>\n",
       "      <td>53536.01</td>\n",
       "      <td>2012</td>\n",
       "      <td>May</td>\n",
       "      <td>2012-05-30</td>\n",
       "      <td>1208</td>\n",
       "    </tr>\n",
       "    <tr>\n",
       "      <th>59</th>\n",
       "      <td>June</td>\n",
       "      <td>2012</td>\n",
       "      <td>93</td>\n",
       "      <td>25917.72</td>\n",
       "      <td>2012</td>\n",
       "      <td>June</td>\n",
       "      <td>2012-06-30</td>\n",
       "      <td>1257</td>\n",
       "    </tr>\n",
       "    <tr>\n",
       "      <th>50</th>\n",
       "      <td>July</td>\n",
       "      <td>2012</td>\n",
       "      <td>133</td>\n",
       "      <td>44463.39</td>\n",
       "      <td>2012</td>\n",
       "      <td>July</td>\n",
       "      <td>2012-07-31</td>\n",
       "      <td>1310</td>\n",
       "    </tr>\n",
       "    <tr>\n",
       "      <th>12</th>\n",
       "      <td>August</td>\n",
       "      <td>2012</td>\n",
       "      <td>157</td>\n",
       "      <td>64898.04</td>\n",
       "      <td>2012</td>\n",
       "      <td>August</td>\n",
       "      <td>2012-08-31</td>\n",
       "      <td>1341</td>\n",
       "    </tr>\n",
       "    <tr>\n",
       "      <th>107</th>\n",
       "      <td>September</td>\n",
       "      <td>2012</td>\n",
       "      <td>110</td>\n",
       "      <td>37892.28</td>\n",
       "      <td>2012</td>\n",
       "      <td>September</td>\n",
       "      <td>2012-09-29</td>\n",
       "      <td>1379</td>\n",
       "    </tr>\n",
       "    <tr>\n",
       "      <th>98</th>\n",
       "      <td>October</td>\n",
       "      <td>2012</td>\n",
       "      <td>137</td>\n",
       "      <td>40607.10</td>\n",
       "      <td>2012</td>\n",
       "      <td>October</td>\n",
       "      <td>2012-10-31</td>\n",
       "      <td>1419</td>\n",
       "    </tr>\n",
       "    <tr>\n",
       "      <th>89</th>\n",
       "      <td>November</td>\n",
       "      <td>2012</td>\n",
       "      <td>97</td>\n",
       "      <td>25329.87</td>\n",
       "      <td>2012</td>\n",
       "      <td>November</td>\n",
       "      <td>2012-11-30</td>\n",
       "      <td>1469</td>\n",
       "    </tr>\n",
       "    <tr>\n",
       "      <th>21</th>\n",
       "      <td>December</td>\n",
       "      <td>2012</td>\n",
       "      <td>103</td>\n",
       "      <td>26324.39</td>\n",
       "      <td>2012</td>\n",
       "      <td>December</td>\n",
       "      <td>2012-12-31</td>\n",
       "      <td>1525</td>\n",
       "    </tr>\n",
       "    <tr>\n",
       "      <th>41</th>\n",
       "      <td>January</td>\n",
       "      <td>2013</td>\n",
       "      <td>139</td>\n",
       "      <td>61988.13</td>\n",
       "      <td>2013</td>\n",
       "      <td>January</td>\n",
       "      <td>2013-01-29</td>\n",
       "      <td>1568</td>\n",
       "    </tr>\n",
       "    <tr>\n",
       "      <th>31</th>\n",
       "      <td>February</td>\n",
       "      <td>2013</td>\n",
       "      <td>121</td>\n",
       "      <td>36277.57</td>\n",
       "      <td>2013</td>\n",
       "      <td>February</td>\n",
       "      <td>2013-02-27</td>\n",
       "      <td>1613</td>\n",
       "    </tr>\n",
       "    <tr>\n",
       "      <th>70</th>\n",
       "      <td>March</td>\n",
       "      <td>2013</td>\n",
       "      <td>142</td>\n",
       "      <td>39664.52</td>\n",
       "      <td>2013</td>\n",
       "      <td>March</td>\n",
       "      <td>2013-03-31</td>\n",
       "      <td>1676</td>\n",
       "    </tr>\n",
       "    <tr>\n",
       "      <th>3</th>\n",
       "      <td>April</td>\n",
       "      <td>2013</td>\n",
       "      <td>172</td>\n",
       "      <td>60266.82</td>\n",
       "      <td>2013</td>\n",
       "      <td>April</td>\n",
       "      <td>2013-04-30</td>\n",
       "      <td>1735</td>\n",
       "    </tr>\n",
       "    <tr>\n",
       "      <th>80</th>\n",
       "      <td>May</td>\n",
       "      <td>2013</td>\n",
       "      <td>166</td>\n",
       "      <td>55903.65</td>\n",
       "      <td>2013</td>\n",
       "      <td>May</td>\n",
       "      <td>2013-05-31</td>\n",
       "      <td>1795</td>\n",
       "    </tr>\n",
       "    <tr>\n",
       "      <th>60</th>\n",
       "      <td>June</td>\n",
       "      <td>2013</td>\n",
       "      <td>152</td>\n",
       "      <td>48287.55</td>\n",
       "      <td>2013</td>\n",
       "      <td>June</td>\n",
       "      <td>2013-06-30</td>\n",
       "      <td>1834</td>\n",
       "    </tr>\n",
       "    <tr>\n",
       "      <th>51</th>\n",
       "      <td>July</td>\n",
       "      <td>2013</td>\n",
       "      <td>155</td>\n",
       "      <td>43445.90</td>\n",
       "      <td>2013</td>\n",
       "      <td>July</td>\n",
       "      <td>2013-07-31</td>\n",
       "      <td>1916</td>\n",
       "    </tr>\n",
       "    <tr>\n",
       "      <th>13</th>\n",
       "      <td>August</td>\n",
       "      <td>2013</td>\n",
       "      <td>221</td>\n",
       "      <td>85386.02</td>\n",
       "      <td>2013</td>\n",
       "      <td>August</td>\n",
       "      <td>2013-08-31</td>\n",
       "      <td>1973</td>\n",
       "    </tr>\n",
       "    <tr>\n",
       "      <th>108</th>\n",
       "      <td>September</td>\n",
       "      <td>2013</td>\n",
       "      <td>188</td>\n",
       "      <td>58216.49</td>\n",
       "      <td>2013</td>\n",
       "      <td>September</td>\n",
       "      <td>2013-09-30</td>\n",
       "      <td>2018</td>\n",
       "    </tr>\n",
       "    <tr>\n",
       "      <th>99</th>\n",
       "      <td>October</td>\n",
       "      <td>2013</td>\n",
       "      <td>173</td>\n",
       "      <td>83061.68</td>\n",
       "      <td>2013</td>\n",
       "      <td>October</td>\n",
       "      <td>2013-10-31</td>\n",
       "      <td>2057</td>\n",
       "    </tr>\n",
       "    <tr>\n",
       "      <th>90</th>\n",
       "      <td>November</td>\n",
       "      <td>2013</td>\n",
       "      <td>211</td>\n",
       "      <td>127079.12</td>\n",
       "      <td>2013</td>\n",
       "      <td>November</td>\n",
       "      <td>2013-11-30</td>\n",
       "      <td>2116</td>\n",
       "    </tr>\n",
       "    <tr>\n",
       "      <th>22</th>\n",
       "      <td>December</td>\n",
       "      <td>2013</td>\n",
       "      <td>204</td>\n",
       "      <td>65734.98</td>\n",
       "      <td>2013</td>\n",
       "      <td>December</td>\n",
       "      <td>2013-12-31</td>\n",
       "      <td>2191</td>\n",
       "    </tr>\n",
       "    <tr>\n",
       "      <th>42</th>\n",
       "      <td>January</td>\n",
       "      <td>2014</td>\n",
       "      <td>207</td>\n",
       "      <td>91076.14</td>\n",
       "      <td>2014</td>\n",
       "      <td>January</td>\n",
       "      <td>2014-01-31</td>\n",
       "      <td>2247</td>\n",
       "    </tr>\n",
       "    <tr>\n",
       "      <th>32</th>\n",
       "      <td>February</td>\n",
       "      <td>2014</td>\n",
       "      <td>188</td>\n",
       "      <td>81527.65</td>\n",
       "      <td>2014</td>\n",
       "      <td>February</td>\n",
       "      <td>2014-02-28</td>\n",
       "      <td>2317</td>\n",
       "    </tr>\n",
       "    <tr>\n",
       "      <th>71</th>\n",
       "      <td>March</td>\n",
       "      <td>2014</td>\n",
       "      <td>270</td>\n",
       "      <td>102012.20</td>\n",
       "      <td>2014</td>\n",
       "      <td>March</td>\n",
       "      <td>2014-03-31</td>\n",
       "      <td>2383</td>\n",
       "    </tr>\n",
       "    <tr>\n",
       "      <th>4</th>\n",
       "      <td>April</td>\n",
       "      <td>2014</td>\n",
       "      <td>246</td>\n",
       "      <td>104183.26</td>\n",
       "      <td>2014</td>\n",
       "      <td>April</td>\n",
       "      <td>2014-04-30</td>\n",
       "      <td>2444</td>\n",
       "    </tr>\n",
       "    <tr>\n",
       "      <th>81</th>\n",
       "      <td>May</td>\n",
       "      <td>2014</td>\n",
       "      <td>283</td>\n",
       "      <td>105595.27</td>\n",
       "      <td>2014</td>\n",
       "      <td>May</td>\n",
       "      <td>2014-05-31</td>\n",
       "      <td>2516</td>\n",
       "    </tr>\n",
       "    <tr>\n",
       "      <th>61</th>\n",
       "      <td>June</td>\n",
       "      <td>2014</td>\n",
       "      <td>296</td>\n",
       "      <td>101104.49</td>\n",
       "      <td>2014</td>\n",
       "      <td>June</td>\n",
       "      <td>2014-06-30</td>\n",
       "      <td>2607</td>\n",
       "    </tr>\n",
       "    <tr>\n",
       "      <th>52</th>\n",
       "      <td>July</td>\n",
       "      <td>2014</td>\n",
       "      <td>334</td>\n",
       "      <td>130102.51</td>\n",
       "      <td>2014</td>\n",
       "      <td>July</td>\n",
       "      <td>2014-07-31</td>\n",
       "      <td>2682</td>\n",
       "    </tr>\n",
       "    <tr>\n",
       "      <th>14</th>\n",
       "      <td>August</td>\n",
       "      <td>2014</td>\n",
       "      <td>289</td>\n",
       "      <td>90756.03</td>\n",
       "      <td>2014</td>\n",
       "      <td>August</td>\n",
       "      <td>2014-08-30</td>\n",
       "      <td>2752</td>\n",
       "    </tr>\n",
       "    <tr>\n",
       "      <th>109</th>\n",
       "      <td>September</td>\n",
       "      <td>2014</td>\n",
       "      <td>288</td>\n",
       "      <td>120908.16</td>\n",
       "      <td>2014</td>\n",
       "      <td>September</td>\n",
       "      <td>2014-09-30</td>\n",
       "      <td>2797</td>\n",
       "    </tr>\n",
       "    <tr>\n",
       "      <th>100</th>\n",
       "      <td>October</td>\n",
       "      <td>2014</td>\n",
       "      <td>338</td>\n",
       "      <td>155578.36</td>\n",
       "      <td>2014</td>\n",
       "      <td>October</td>\n",
       "      <td>2014-10-31</td>\n",
       "      <td>2854</td>\n",
       "    </tr>\n",
       "    <tr>\n",
       "      <th>91</th>\n",
       "      <td>November</td>\n",
       "      <td>2014</td>\n",
       "      <td>269</td>\n",
       "      <td>98609.72</td>\n",
       "      <td>2014</td>\n",
       "      <td>November</td>\n",
       "      <td>2014-11-30</td>\n",
       "      <td>2906</td>\n",
       "    </tr>\n",
       "    <tr>\n",
       "      <th>23</th>\n",
       "      <td>December</td>\n",
       "      <td>2014</td>\n",
       "      <td>322</td>\n",
       "      <td>119777.36</td>\n",
       "      <td>2014</td>\n",
       "      <td>December</td>\n",
       "      <td>2014-12-31</td>\n",
       "      <td>2969</td>\n",
       "    </tr>\n",
       "    <tr>\n",
       "      <th>43</th>\n",
       "      <td>January</td>\n",
       "      <td>2015</td>\n",
       "      <td>346</td>\n",
       "      <td>132874.07</td>\n",
       "      <td>2015</td>\n",
       "      <td>January</td>\n",
       "      <td>2015-01-31</td>\n",
       "      <td>3033</td>\n",
       "    </tr>\n",
       "    <tr>\n",
       "      <th>33</th>\n",
       "      <td>February</td>\n",
       "      <td>2015</td>\n",
       "      <td>310</td>\n",
       "      <td>135030.45</td>\n",
       "      <td>2015</td>\n",
       "      <td>February</td>\n",
       "      <td>2015-02-28</td>\n",
       "      <td>3081</td>\n",
       "    </tr>\n",
       "    <tr>\n",
       "      <th>72</th>\n",
       "      <td>March</td>\n",
       "      <td>2015</td>\n",
       "      <td>343</td>\n",
       "      <td>131553.88</td>\n",
       "      <td>2015</td>\n",
       "      <td>March</td>\n",
       "      <td>2015-03-31</td>\n",
       "      <td>3154</td>\n",
       "    </tr>\n",
       "    <tr>\n",
       "      <th>5</th>\n",
       "      <td>April</td>\n",
       "      <td>2015</td>\n",
       "      <td>347</td>\n",
       "      <td>111784.03</td>\n",
       "      <td>2015</td>\n",
       "      <td>April</td>\n",
       "      <td>2015-04-30</td>\n",
       "      <td>3232</td>\n",
       "    </tr>\n",
       "    <tr>\n",
       "      <th>82</th>\n",
       "      <td>May</td>\n",
       "      <td>2015</td>\n",
       "      <td>356</td>\n",
       "      <td>121304.55</td>\n",
       "      <td>2015</td>\n",
       "      <td>May</td>\n",
       "      <td>2015-05-31</td>\n",
       "      <td>3350</td>\n",
       "    </tr>\n",
       "    <tr>\n",
       "      <th>62</th>\n",
       "      <td>June</td>\n",
       "      <td>2015</td>\n",
       "      <td>376</td>\n",
       "      <td>127126.03</td>\n",
       "      <td>2015</td>\n",
       "      <td>June</td>\n",
       "      <td>2015-06-30</td>\n",
       "      <td>3427</td>\n",
       "    </tr>\n",
       "    <tr>\n",
       "      <th>53</th>\n",
       "      <td>July</td>\n",
       "      <td>2015</td>\n",
       "      <td>449</td>\n",
       "      <td>202067.21</td>\n",
       "      <td>2015</td>\n",
       "      <td>July</td>\n",
       "      <td>2015-07-31</td>\n",
       "      <td>3516</td>\n",
       "    </tr>\n",
       "    <tr>\n",
       "      <th>15</th>\n",
       "      <td>August</td>\n",
       "      <td>2015</td>\n",
       "      <td>425</td>\n",
       "      <td>142549.03</td>\n",
       "      <td>2015</td>\n",
       "      <td>August</td>\n",
       "      <td>2015-08-31</td>\n",
       "      <td>3598</td>\n",
       "    </tr>\n",
       "    <tr>\n",
       "      <th>110</th>\n",
       "      <td>September</td>\n",
       "      <td>2015</td>\n",
       "      <td>444</td>\n",
       "      <td>160389.15</td>\n",
       "      <td>2015</td>\n",
       "      <td>September</td>\n",
       "      <td>2015-09-30</td>\n",
       "      <td>3714</td>\n",
       "    </tr>\n",
       "    <tr>\n",
       "      <th>101</th>\n",
       "      <td>October</td>\n",
       "      <td>2015</td>\n",
       "      <td>440</td>\n",
       "      <td>203014.12</td>\n",
       "      <td>2015</td>\n",
       "      <td>October</td>\n",
       "      <td>2015-10-31</td>\n",
       "      <td>3767</td>\n",
       "    </tr>\n",
       "    <tr>\n",
       "      <th>92</th>\n",
       "      <td>November</td>\n",
       "      <td>2015</td>\n",
       "      <td>409</td>\n",
       "      <td>202390.26</td>\n",
       "      <td>2015</td>\n",
       "      <td>November</td>\n",
       "      <td>2015-11-30</td>\n",
       "      <td>3835</td>\n",
       "    </tr>\n",
       "    <tr>\n",
       "      <th>24</th>\n",
       "      <td>December</td>\n",
       "      <td>2015</td>\n",
       "      <td>445</td>\n",
       "      <td>164657.71</td>\n",
       "      <td>2015</td>\n",
       "      <td>December</td>\n",
       "      <td>2015-12-31</td>\n",
       "      <td>3902</td>\n",
       "    </tr>\n",
       "    <tr>\n",
       "      <th>44</th>\n",
       "      <td>January</td>\n",
       "      <td>2016</td>\n",
       "      <td>434</td>\n",
       "      <td>162711.92</td>\n",
       "      <td>2016</td>\n",
       "      <td>January</td>\n",
       "      <td>2016-01-31</td>\n",
       "      <td>3983</td>\n",
       "    </tr>\n",
       "    <tr>\n",
       "      <th>34</th>\n",
       "      <td>February</td>\n",
       "      <td>2016</td>\n",
       "      <td>435</td>\n",
       "      <td>158610.93</td>\n",
       "      <td>2016</td>\n",
       "      <td>February</td>\n",
       "      <td>2016-02-29</td>\n",
       "      <td>4060</td>\n",
       "    </tr>\n",
       "    <tr>\n",
       "      <th>73</th>\n",
       "      <td>March</td>\n",
       "      <td>2016</td>\n",
       "      <td>546</td>\n",
       "      <td>207768.64</td>\n",
       "      <td>2016</td>\n",
       "      <td>March</td>\n",
       "      <td>2016-03-31</td>\n",
       "      <td>4116</td>\n",
       "    </tr>\n",
       "    <tr>\n",
       "      <th>6</th>\n",
       "      <td>April</td>\n",
       "      <td>2016</td>\n",
       "      <td>494</td>\n",
       "      <td>157345.66</td>\n",
       "      <td>2016</td>\n",
       "      <td>April</td>\n",
       "      <td>2016-04-30</td>\n",
       "      <td>4158</td>\n",
       "    </tr>\n",
       "    <tr>\n",
       "      <th>83</th>\n",
       "      <td>May</td>\n",
       "      <td>2016</td>\n",
       "      <td>505</td>\n",
       "      <td>194461.19</td>\n",
       "      <td>2016</td>\n",
       "      <td>May</td>\n",
       "      <td>2016-05-31</td>\n",
       "      <td>4194</td>\n",
       "    </tr>\n",
       "    <tr>\n",
       "      <th>63</th>\n",
       "      <td>June</td>\n",
       "      <td>2016</td>\n",
       "      <td>553</td>\n",
       "      <td>173276.82</td>\n",
       "      <td>2016</td>\n",
       "      <td>June</td>\n",
       "      <td>2016-06-30</td>\n",
       "      <td>4240</td>\n",
       "    </tr>\n",
       "    <tr>\n",
       "      <th>54</th>\n",
       "      <td>July</td>\n",
       "      <td>2016</td>\n",
       "      <td>474</td>\n",
       "      <td>175840.82</td>\n",
       "      <td>2016</td>\n",
       "      <td>July</td>\n",
       "      <td>2016-07-31</td>\n",
       "      <td>4279</td>\n",
       "    </tr>\n",
       "    <tr>\n",
       "      <th>16</th>\n",
       "      <td>August</td>\n",
       "      <td>2016</td>\n",
       "      <td>541</td>\n",
       "      <td>213210.91</td>\n",
       "      <td>2016</td>\n",
       "      <td>August</td>\n",
       "      <td>2016-08-31</td>\n",
       "      <td>4338</td>\n",
       "    </tr>\n",
       "    <tr>\n",
       "      <th>111</th>\n",
       "      <td>September</td>\n",
       "      <td>2016</td>\n",
       "      <td>522</td>\n",
       "      <td>172248.01</td>\n",
       "      <td>2016</td>\n",
       "      <td>September</td>\n",
       "      <td>2016-09-30</td>\n",
       "      <td>4373</td>\n",
       "    </tr>\n",
       "    <tr>\n",
       "      <th>102</th>\n",
       "      <td>October</td>\n",
       "      <td>2016</td>\n",
       "      <td>483</td>\n",
       "      <td>171045.03</td>\n",
       "      <td>2016</td>\n",
       "      <td>October</td>\n",
       "      <td>2016-10-31</td>\n",
       "      <td>4412</td>\n",
       "    </tr>\n",
       "    <tr>\n",
       "      <th>93</th>\n",
       "      <td>November</td>\n",
       "      <td>2016</td>\n",
       "      <td>532</td>\n",
       "      <td>208988.62</td>\n",
       "      <td>2016</td>\n",
       "      <td>November</td>\n",
       "      <td>2016-11-30</td>\n",
       "      <td>4440</td>\n",
       "    </tr>\n",
       "    <tr>\n",
       "      <th>25</th>\n",
       "      <td>December</td>\n",
       "      <td>2016</td>\n",
       "      <td>575</td>\n",
       "      <td>194579.26</td>\n",
       "      <td>2016</td>\n",
       "      <td>December</td>\n",
       "      <td>2016-12-31</td>\n",
       "      <td>4452</td>\n",
       "    </tr>\n",
       "    <tr>\n",
       "      <th>45</th>\n",
       "      <td>January</td>\n",
       "      <td>2017</td>\n",
       "      <td>510</td>\n",
       "      <td>226559.78</td>\n",
       "      <td>2017</td>\n",
       "      <td>January</td>\n",
       "      <td>2017-01-31</td>\n",
       "      <td>4457</td>\n",
       "    </tr>\n",
       "    <tr>\n",
       "      <th>35</th>\n",
       "      <td>February</td>\n",
       "      <td>2017</td>\n",
       "      <td>528</td>\n",
       "      <td>212184.26</td>\n",
       "      <td>2017</td>\n",
       "      <td>February</td>\n",
       "      <td>2017-02-27</td>\n",
       "      <td>4461</td>\n",
       "    </tr>\n",
       "    <tr>\n",
       "      <th>74</th>\n",
       "      <td>March</td>\n",
       "      <td>2017</td>\n",
       "      <td>573</td>\n",
       "      <td>214764.54</td>\n",
       "      <td>2017</td>\n",
       "      <td>March</td>\n",
       "      <td>2017-03-31</td>\n",
       "      <td>4445</td>\n",
       "    </tr>\n",
       "    <tr>\n",
       "      <th>7</th>\n",
       "      <td>April</td>\n",
       "      <td>2017</td>\n",
       "      <td>528</td>\n",
       "      <td>190884.84</td>\n",
       "      <td>2017</td>\n",
       "      <td>April</td>\n",
       "      <td>2017-04-30</td>\n",
       "      <td>4442</td>\n",
       "    </tr>\n",
       "    <tr>\n",
       "      <th>84</th>\n",
       "      <td>May</td>\n",
       "      <td>2017</td>\n",
       "      <td>541</td>\n",
       "      <td>174763.51</td>\n",
       "      <td>2017</td>\n",
       "      <td>May</td>\n",
       "      <td>2017-05-31</td>\n",
       "      <td>4446</td>\n",
       "    </tr>\n",
       "    <tr>\n",
       "      <th>64</th>\n",
       "      <td>June</td>\n",
       "      <td>2017</td>\n",
       "      <td>583</td>\n",
       "      <td>238039.42</td>\n",
       "      <td>2017</td>\n",
       "      <td>June</td>\n",
       "      <td>2017-06-30</td>\n",
       "      <td>4463</td>\n",
       "    </tr>\n",
       "    <tr>\n",
       "      <th>55</th>\n",
       "      <td>July</td>\n",
       "      <td>2017</td>\n",
       "      <td>549</td>\n",
       "      <td>198520.29</td>\n",
       "      <td>2017</td>\n",
       "      <td>July</td>\n",
       "      <td>2017-07-31</td>\n",
       "      <td>4487</td>\n",
       "    </tr>\n",
       "    <tr>\n",
       "      <th>17</th>\n",
       "      <td>August</td>\n",
       "      <td>2017</td>\n",
       "      <td>564</td>\n",
       "      <td>256837.51</td>\n",
       "      <td>2017</td>\n",
       "      <td>August</td>\n",
       "      <td>2017-08-31</td>\n",
       "      <td>4512</td>\n",
       "    </tr>\n",
       "    <tr>\n",
       "      <th>112</th>\n",
       "      <td>September</td>\n",
       "      <td>2017</td>\n",
       "      <td>561</td>\n",
       "      <td>273094.87</td>\n",
       "      <td>2017</td>\n",
       "      <td>September</td>\n",
       "      <td>2017-09-30</td>\n",
       "      <td>4550</td>\n",
       "    </tr>\n",
       "    <tr>\n",
       "      <th>103</th>\n",
       "      <td>October</td>\n",
       "      <td>2017</td>\n",
       "      <td>548</td>\n",
       "      <td>237697.54</td>\n",
       "      <td>2017</td>\n",
       "      <td>October</td>\n",
       "      <td>2017-10-31</td>\n",
       "      <td>4556</td>\n",
       "    </tr>\n",
       "    <tr>\n",
       "      <th>94</th>\n",
       "      <td>November</td>\n",
       "      <td>2017</td>\n",
       "      <td>532</td>\n",
       "      <td>210672.17</td>\n",
       "      <td>2017</td>\n",
       "      <td>November</td>\n",
       "      <td>2017-11-30</td>\n",
       "      <td>4576</td>\n",
       "    </tr>\n",
       "    <tr>\n",
       "      <th>26</th>\n",
       "      <td>December</td>\n",
       "      <td>2017</td>\n",
       "      <td>601</td>\n",
       "      <td>229805.25</td>\n",
       "      <td>2017</td>\n",
       "      <td>December</td>\n",
       "      <td>2017-12-31</td>\n",
       "      <td>4600</td>\n",
       "    </tr>\n",
       "    <tr>\n",
       "      <th>46</th>\n",
       "      <td>January</td>\n",
       "      <td>2018</td>\n",
       "      <td>631</td>\n",
       "      <td>340563.95</td>\n",
       "      <td>2018</td>\n",
       "      <td>January</td>\n",
       "      <td>2018-01-31</td>\n",
       "      <td>4609</td>\n",
       "    </tr>\n",
       "    <tr>\n",
       "      <th>36</th>\n",
       "      <td>February</td>\n",
       "      <td>2018</td>\n",
       "      <td>577</td>\n",
       "      <td>256867.44</td>\n",
       "      <td>2018</td>\n",
       "      <td>February</td>\n",
       "      <td>2018-02-28</td>\n",
       "      <td>4615</td>\n",
       "    </tr>\n",
       "    <tr>\n",
       "      <th>75</th>\n",
       "      <td>March</td>\n",
       "      <td>2018</td>\n",
       "      <td>638</td>\n",
       "      <td>272020.64</td>\n",
       "      <td>2018</td>\n",
       "      <td>March</td>\n",
       "      <td>2018-03-31</td>\n",
       "      <td>4642</td>\n",
       "    </tr>\n",
       "    <tr>\n",
       "      <th>8</th>\n",
       "      <td>April</td>\n",
       "      <td>2018</td>\n",
       "      <td>652</td>\n",
       "      <td>230634.54</td>\n",
       "      <td>2018</td>\n",
       "      <td>April</td>\n",
       "      <td>2018-04-30</td>\n",
       "      <td>4649</td>\n",
       "    </tr>\n",
       "    <tr>\n",
       "      <th>85</th>\n",
       "      <td>May</td>\n",
       "      <td>2018</td>\n",
       "      <td>690</td>\n",
       "      <td>330916.45</td>\n",
       "      <td>2018</td>\n",
       "      <td>May</td>\n",
       "      <td>2018-05-31</td>\n",
       "      <td>4686</td>\n",
       "    </tr>\n",
       "    <tr>\n",
       "      <th>65</th>\n",
       "      <td>June</td>\n",
       "      <td>2018</td>\n",
       "      <td>663</td>\n",
       "      <td>337772.47</td>\n",
       "      <td>2018</td>\n",
       "      <td>June</td>\n",
       "      <td>2018-06-30</td>\n",
       "      <td>4726</td>\n",
       "    </tr>\n",
       "    <tr>\n",
       "      <th>56</th>\n",
       "      <td>July</td>\n",
       "      <td>2018</td>\n",
       "      <td>666</td>\n",
       "      <td>333238.84</td>\n",
       "      <td>2018</td>\n",
       "      <td>July</td>\n",
       "      <td>2018-07-31</td>\n",
       "      <td>4751</td>\n",
       "    </tr>\n",
       "    <tr>\n",
       "      <th>18</th>\n",
       "      <td>August</td>\n",
       "      <td>2018</td>\n",
       "      <td>697</td>\n",
       "      <td>266047.62</td>\n",
       "      <td>2018</td>\n",
       "      <td>August</td>\n",
       "      <td>2018-08-31</td>\n",
       "      <td>4773</td>\n",
       "    </tr>\n",
       "    <tr>\n",
       "      <th>113</th>\n",
       "      <td>September</td>\n",
       "      <td>2018</td>\n",
       "      <td>659</td>\n",
       "      <td>327018.27</td>\n",
       "      <td>2018</td>\n",
       "      <td>September</td>\n",
       "      <td>2018-09-30</td>\n",
       "      <td>4797</td>\n",
       "    </tr>\n",
       "    <tr>\n",
       "      <th>104</th>\n",
       "      <td>October</td>\n",
       "      <td>2018</td>\n",
       "      <td>699</td>\n",
       "      <td>274719.77</td>\n",
       "      <td>2018</td>\n",
       "      <td>October</td>\n",
       "      <td>2018-10-31</td>\n",
       "      <td>4821</td>\n",
       "    </tr>\n",
       "    <tr>\n",
       "      <th>95</th>\n",
       "      <td>November</td>\n",
       "      <td>2018</td>\n",
       "      <td>637</td>\n",
       "      <td>311718.98</td>\n",
       "      <td>2018</td>\n",
       "      <td>November</td>\n",
       "      <td>2018-11-30</td>\n",
       "      <td>4828</td>\n",
       "    </tr>\n",
       "    <tr>\n",
       "      <th>27</th>\n",
       "      <td>December</td>\n",
       "      <td>2018</td>\n",
       "      <td>629</td>\n",
       "      <td>289373.16</td>\n",
       "      <td>2018</td>\n",
       "      <td>December</td>\n",
       "      <td>2018-12-31</td>\n",
       "      <td>4845</td>\n",
       "    </tr>\n",
       "    <tr>\n",
       "      <th>47</th>\n",
       "      <td>January</td>\n",
       "      <td>2019</td>\n",
       "      <td>701</td>\n",
       "      <td>343733.99</td>\n",
       "      <td>2019</td>\n",
       "      <td>January</td>\n",
       "      <td>2019-01-31</td>\n",
       "      <td>4887</td>\n",
       "    </tr>\n",
       "    <tr>\n",
       "      <th>37</th>\n",
       "      <td>February</td>\n",
       "      <td>2019</td>\n",
       "      <td>625</td>\n",
       "      <td>249323.96</td>\n",
       "      <td>2019</td>\n",
       "      <td>February</td>\n",
       "      <td>2019-02-28</td>\n",
       "      <td>4882</td>\n",
       "    </tr>\n",
       "    <tr>\n",
       "      <th>76</th>\n",
       "      <td>March</td>\n",
       "      <td>2019</td>\n",
       "      <td>713</td>\n",
       "      <td>306337.40</td>\n",
       "      <td>2019</td>\n",
       "      <td>March</td>\n",
       "      <td>2019-03-31</td>\n",
       "      <td>4897</td>\n",
       "    </tr>\n",
       "    <tr>\n",
       "      <th>9</th>\n",
       "      <td>April</td>\n",
       "      <td>2019</td>\n",
       "      <td>714</td>\n",
       "      <td>316541.57</td>\n",
       "      <td>2019</td>\n",
       "      <td>April</td>\n",
       "      <td>2019-04-30</td>\n",
       "      <td>4908</td>\n",
       "    </tr>\n",
       "    <tr>\n",
       "      <th>86</th>\n",
       "      <td>May</td>\n",
       "      <td>2019</td>\n",
       "      <td>739</td>\n",
       "      <td>375946.30</td>\n",
       "      <td>2019</td>\n",
       "      <td>May</td>\n",
       "      <td>2019-05-31</td>\n",
       "      <td>4923</td>\n",
       "    </tr>\n",
       "    <tr>\n",
       "      <th>66</th>\n",
       "      <td>June</td>\n",
       "      <td>2019</td>\n",
       "      <td>669</td>\n",
       "      <td>342772.06</td>\n",
       "      <td>2019</td>\n",
       "      <td>June</td>\n",
       "      <td>2019-06-30</td>\n",
       "      <td>4949</td>\n",
       "    </tr>\n",
       "  </tbody>\n",
       "</table>\n",
       "</div>"
      ],
      "text/plain": [
       "    ClaimMonth  ClaimYear  TotalVisits  ClaimAmtTotal  Year      Month       Date  Enrolled\n",
       "38     January       2010            7         708.98  2010    January 2010-01-31        66\n",
       "28    February       2010            7         785.02  2010   February 2010-02-28        92\n",
       "67       March       2010            1          75.90  2010      March 2010-03-31       109\n",
       "0        April       2010            7         904.91  2010      April 2010-04-30       146\n",
       "77         May       2010           10        1219.05  2010        May 2010-05-31       181\n",
       "57        June       2010           17        3969.60  2010       June 2010-06-29       229\n",
       "48        July       2010           23       11179.47  2010       July 2010-07-31       280\n",
       "10      August       2010           24       12113.15  2010     August 2010-08-31       313\n",
       "105  September       2010           23       10138.17  2010  September 2010-09-30       349\n",
       "96     October       2010           22        3628.63  2010    October 2010-10-31       411\n",
       "87    November       2010           32        8936.59  2010   November 2010-11-30       442\n",
       "19    December       2010           37       10161.66  2010   December 2010-12-31       472\n",
       "39     January       2011           35       11463.88  2011    January 2011-01-31       524\n",
       "29    February       2011           25        7974.00  2011   February 2011-02-28       581\n",
       "68       March       2011           46       30193.63  2011      March 2011-03-31       616\n",
       "1        April       2011           58       16601.50  2011      April 2011-04-30       655\n",
       "78         May       2011           65       29681.70  2011        May 2011-05-31       698\n",
       "58        June       2011           57       19235.16  2011       June 2011-06-30       736\n",
       "49        July       2011           74       22708.98  2011       July 2011-07-31       785\n",
       "11      August       2011           67       31355.95  2011     August 2011-08-31       826\n",
       "106  September       2011           68       41751.82  2011  September 2011-09-30       853\n",
       "97     October       2011           69       20930.89  2011    October 2011-10-31       884\n",
       "88    November       2011           90       29015.34  2011   November 2011-11-28       931\n",
       "20    December       2011           88       37255.73  2011   December 2011-12-31       975\n",
       "40     January       2012           84       42980.69  2012    January 2012-01-30      1019\n",
       "30    February       2012           78       20888.25  2012   February 2012-02-29      1059\n",
       "69       March       2012           82       38956.06  2012      March 2012-03-31      1129\n",
       "2        April       2012          118       34589.71  2012      April 2012-04-30      1166\n",
       "79         May       2012          130       53536.01  2012        May 2012-05-30      1208\n",
       "59        June       2012           93       25917.72  2012       June 2012-06-30      1257\n",
       "50        July       2012          133       44463.39  2012       July 2012-07-31      1310\n",
       "12      August       2012          157       64898.04  2012     August 2012-08-31      1341\n",
       "107  September       2012          110       37892.28  2012  September 2012-09-29      1379\n",
       "98     October       2012          137       40607.10  2012    October 2012-10-31      1419\n",
       "89    November       2012           97       25329.87  2012   November 2012-11-30      1469\n",
       "21    December       2012          103       26324.39  2012   December 2012-12-31      1525\n",
       "41     January       2013          139       61988.13  2013    January 2013-01-29      1568\n",
       "31    February       2013          121       36277.57  2013   February 2013-02-27      1613\n",
       "70       March       2013          142       39664.52  2013      March 2013-03-31      1676\n",
       "3        April       2013          172       60266.82  2013      April 2013-04-30      1735\n",
       "80         May       2013          166       55903.65  2013        May 2013-05-31      1795\n",
       "60        June       2013          152       48287.55  2013       June 2013-06-30      1834\n",
       "51        July       2013          155       43445.90  2013       July 2013-07-31      1916\n",
       "13      August       2013          221       85386.02  2013     August 2013-08-31      1973\n",
       "108  September       2013          188       58216.49  2013  September 2013-09-30      2018\n",
       "99     October       2013          173       83061.68  2013    October 2013-10-31      2057\n",
       "90    November       2013          211      127079.12  2013   November 2013-11-30      2116\n",
       "22    December       2013          204       65734.98  2013   December 2013-12-31      2191\n",
       "42     January       2014          207       91076.14  2014    January 2014-01-31      2247\n",
       "32    February       2014          188       81527.65  2014   February 2014-02-28      2317\n",
       "71       March       2014          270      102012.20  2014      March 2014-03-31      2383\n",
       "4        April       2014          246      104183.26  2014      April 2014-04-30      2444\n",
       "81         May       2014          283      105595.27  2014        May 2014-05-31      2516\n",
       "61        June       2014          296      101104.49  2014       June 2014-06-30      2607\n",
       "52        July       2014          334      130102.51  2014       July 2014-07-31      2682\n",
       "14      August       2014          289       90756.03  2014     August 2014-08-30      2752\n",
       "109  September       2014          288      120908.16  2014  September 2014-09-30      2797\n",
       "100    October       2014          338      155578.36  2014    October 2014-10-31      2854\n",
       "91    November       2014          269       98609.72  2014   November 2014-11-30      2906\n",
       "23    December       2014          322      119777.36  2014   December 2014-12-31      2969\n",
       "43     January       2015          346      132874.07  2015    January 2015-01-31      3033\n",
       "33    February       2015          310      135030.45  2015   February 2015-02-28      3081\n",
       "72       March       2015          343      131553.88  2015      March 2015-03-31      3154\n",
       "5        April       2015          347      111784.03  2015      April 2015-04-30      3232\n",
       "82         May       2015          356      121304.55  2015        May 2015-05-31      3350\n",
       "62        June       2015          376      127126.03  2015       June 2015-06-30      3427\n",
       "53        July       2015          449      202067.21  2015       July 2015-07-31      3516\n",
       "15      August       2015          425      142549.03  2015     August 2015-08-31      3598\n",
       "110  September       2015          444      160389.15  2015  September 2015-09-30      3714\n",
       "101    October       2015          440      203014.12  2015    October 2015-10-31      3767\n",
       "92    November       2015          409      202390.26  2015   November 2015-11-30      3835\n",
       "24    December       2015          445      164657.71  2015   December 2015-12-31      3902\n",
       "44     January       2016          434      162711.92  2016    January 2016-01-31      3983\n",
       "34    February       2016          435      158610.93  2016   February 2016-02-29      4060\n",
       "73       March       2016          546      207768.64  2016      March 2016-03-31      4116\n",
       "6        April       2016          494      157345.66  2016      April 2016-04-30      4158\n",
       "83         May       2016          505      194461.19  2016        May 2016-05-31      4194\n",
       "63        June       2016          553      173276.82  2016       June 2016-06-30      4240\n",
       "54        July       2016          474      175840.82  2016       July 2016-07-31      4279\n",
       "16      August       2016          541      213210.91  2016     August 2016-08-31      4338\n",
       "111  September       2016          522      172248.01  2016  September 2016-09-30      4373\n",
       "102    October       2016          483      171045.03  2016    October 2016-10-31      4412\n",
       "93    November       2016          532      208988.62  2016   November 2016-11-30      4440\n",
       "25    December       2016          575      194579.26  2016   December 2016-12-31      4452\n",
       "45     January       2017          510      226559.78  2017    January 2017-01-31      4457\n",
       "35    February       2017          528      212184.26  2017   February 2017-02-27      4461\n",
       "74       March       2017          573      214764.54  2017      March 2017-03-31      4445\n",
       "7        April       2017          528      190884.84  2017      April 2017-04-30      4442\n",
       "84         May       2017          541      174763.51  2017        May 2017-05-31      4446\n",
       "64        June       2017          583      238039.42  2017       June 2017-06-30      4463\n",
       "55        July       2017          549      198520.29  2017       July 2017-07-31      4487\n",
       "17      August       2017          564      256837.51  2017     August 2017-08-31      4512\n",
       "112  September       2017          561      273094.87  2017  September 2017-09-30      4550\n",
       "103    October       2017          548      237697.54  2017    October 2017-10-31      4556\n",
       "94    November       2017          532      210672.17  2017   November 2017-11-30      4576\n",
       "26    December       2017          601      229805.25  2017   December 2017-12-31      4600\n",
       "46     January       2018          631      340563.95  2018    January 2018-01-31      4609\n",
       "36    February       2018          577      256867.44  2018   February 2018-02-28      4615\n",
       "75       March       2018          638      272020.64  2018      March 2018-03-31      4642\n",
       "8        April       2018          652      230634.54  2018      April 2018-04-30      4649\n",
       "85         May       2018          690      330916.45  2018        May 2018-05-31      4686\n",
       "65        June       2018          663      337772.47  2018       June 2018-06-30      4726\n",
       "56        July       2018          666      333238.84  2018       July 2018-07-31      4751\n",
       "18      August       2018          697      266047.62  2018     August 2018-08-31      4773\n",
       "113  September       2018          659      327018.27  2018  September 2018-09-30      4797\n",
       "104    October       2018          699      274719.77  2018    October 2018-10-31      4821\n",
       "95    November       2018          637      311718.98  2018   November 2018-11-30      4828\n",
       "27    December       2018          629      289373.16  2018   December 2018-12-31      4845\n",
       "47     January       2019          701      343733.99  2019    January 2019-01-31      4887\n",
       "37    February       2019          625      249323.96  2019   February 2019-02-28      4882\n",
       "76       March       2019          713      306337.40  2019      March 2019-03-31      4897\n",
       "9        April       2019          714      316541.57  2019      April 2019-04-30      4908\n",
       "86         May       2019          739      375946.30  2019        May 2019-05-31      4923\n",
       "66        June       2019          669      342772.06  2019       June 2019-06-30      4949"
      ]
     },
     "execution_count": 51,
     "metadata": {},
     "output_type": "execute_result"
    }
   ],
   "source": [
    "DF.sort_values('Date',inplace=True)\n",
    "DF"
   ]
  },
  {
   "cell_type": "markdown",
   "metadata": {
    "heading_collapsed": true
   },
   "source": [
    "# Exploratory Analysis"
   ]
  },
  {
   "cell_type": "markdown",
   "metadata": {
    "hidden": true
   },
   "source": [
    "Notes \n",
    "- I have insured the data makes sense. Claim Dates > Enroll Dates and Claim Dates < Cancelled Dates\n",
    "- Every PetId has in dataset has enroll date. No PetId appears twice in dataset, as a result if a pet has a canceldate it doesnt have a re-enroll date. \n"
   ]
  },
  {
   "cell_type": "markdown",
   "metadata": {
    "hidden": true
   },
   "source": [
    "## Anomaly Detection & Feature investigation"
   ]
  },
  {
   "cell_type": "markdown",
   "metadata": {
    "hidden": true
   },
   "source": [
    "- By just plotting the ClaimAmount you can see that outliers exist\n",
    "- These outliers seem to be the \"premium\" claims"
   ]
  },
  {
   "cell_type": "code",
   "execution_count": 191,
   "metadata": {
    "ExecuteTime": {
     "end_time": "2020-02-10T01:37:08.733349Z",
     "start_time": "2020-02-10T01:37:08.488173Z"
    },
    "hidden": true
   },
   "outputs": [
    {
     "data": {
      "text/plain": [
       "<matplotlib.axes._subplots.AxesSubplot at 0x7f2427a4eb90>"
      ]
     },
     "execution_count": 191,
     "metadata": {},
     "output_type": "execute_result"
    },
    {
     "data": {
      "image/png": "[encoded data removed]",
      "text/plain": [
       "<Figure size 720x720 with 1 Axes>"
      ]
     },
     "metadata": {
      "needs_background": "light"
     },
     "output_type": "display_data"
    }
   ],
   "source": [
    "df1 = DF.groupby('ClaimDate')[['ClaimAmount']].sum().reset_index()\n",
    "df1.plot(x='ClaimDate',y='ClaimAmount',kind='scatter',figsize=(10,10))"
   ]
  },
  {
   "cell_type": "markdown",
   "metadata": {
    "hidden": true
   },
   "source": [
    "Now we take out some outliers by looking at data within quantiles"
   ]
  },
  {
   "cell_type": "code",
   "execution_count": 192,
   "metadata": {
    "ExecuteTime": {
     "end_time": "2020-02-10T01:37:12.196348Z",
     "start_time": "2020-02-10T01:37:11.767677Z"
    },
    "hidden": true,
    "scrolled": false
   },
   "outputs": [
    {
     "data": {
      "text/plain": [
       "<matplotlib.axes._subplots.AxesSubplot at 0x7f2427bdd4d0>"
      ]
     },
     "execution_count": 192,
     "metadata": {},
     "output_type": "execute_result"
    },
    {
     "data": {
      "image/png": "[encoded data removed]",
      "text/plain": [
       "<Figure size 576x576 with 1 Axes>"
      ]
     },
     "metadata": {
      "needs_background": "light"
     },
     "output_type": "display_data"
    },
    {
     "data": {
      "image/png": "[encoded data removed]",
      "text/plain": [
       "<Figure size 1440x720 with 1 Axes>"
      ]
     },
     "metadata": {
      "needs_background": "light"
     },
     "output_type": "display_data"
    }
   ],
   "source": [
    "#eliminate any large or small outliers\n",
    "#use the data between the 25%-75% quantiles\n",
    "#This will help with the model prediction to not wildy predict values\n",
    "\n",
    "df = DF.loc[DF.ClaimAmount.between(DF.ClaimAmount.quantile(.25),DF.ClaimAmount.quantile(.75))]\n",
    "sns.boxplot(x=df['ClaimAmount'])\n",
    "df1 = df1.groupby('ClaimDate')[['ClaimAmount']].sum().reset_index()\n",
    "df1.plot(x='ClaimDate',y='ClaimAmount',kind='scatter',figsize=(20,10))"
   ]
  },
  {
   "cell_type": "markdown",
   "metadata": {
    "hidden": true
   },
   "source": [
    "From observations, you can see that no real linear regression exists. The claim amounts have been growing as the year increases.\n",
    "There doesn't seem to be any periodic behaviors happening yearly. You can notice that since 2010 the claim amounts have been increasing. "
   ]
  },
  {
   "cell_type": "code",
   "execution_count": 193,
   "metadata": {
    "ExecuteTime": {
     "end_time": "2020-02-10T01:37:15.298259Z",
     "start_time": "2020-02-10T01:37:15.137714Z"
    },
    "hidden": true
   },
   "outputs": [
    {
     "data": {
      "text/plain": [
       "<matplotlib.axes._subplots.AxesSubplot at 0x7f2427bdee90>"
      ]
     },
     "execution_count": 193,
     "metadata": {},
     "output_type": "execute_result"
    },
    {
     "data": {
      "image/png": "[encoded data removed]",
      "text/plain": [
       "<Figure size 576x576 with 1 Axes>"
      ]
     },
     "metadata": {
      "needs_background": "light"
     },
     "output_type": "display_data"
    }
   ],
   "source": [
    "#Let us examine what the claim amounts were from 2010-2019 \n",
    "#Since 2019 only has data from Jan-June\n",
    "temp = df.loc[df.ClaimMonthNum.isin(np.arange(1,7))]\n",
    "temp.groupby('ClaimYear')[['ClaimAmount']].sum().plot()"
   ]
  },
  {
   "cell_type": "code",
   "execution_count": 196,
   "metadata": {
    "ExecuteTime": {
     "end_time": "2020-02-10T01:38:54.548736Z",
     "start_time": "2020-02-10T01:38:54.402318Z"
    },
    "hidden": true
   },
   "outputs": [
    {
     "data": {
      "text/plain": [
       "<matplotlib.axes._subplots.AxesSubplot at 0x7f2427b1f850>"
      ]
     },
     "execution_count": 196,
     "metadata": {},
     "output_type": "execute_result"
    },
    {
     "data": {
      "image/png": "[encoded data removed]",
      "text/plain": [
       "<Figure size 576x576 with 1 Axes>"
      ]
     },
     "metadata": {
      "needs_background": "light"
     },
     "output_type": "display_data"
    }
   ],
   "source": [
    "enroll_df.plot(x='Date',y='Enrolled')"
   ]
  },
  {
   "cell_type": "markdown",
   "metadata": {
    "hidden": true
   },
   "source": [
    "What is interesting is that the claim amount per year, when you eliminate outliers does increase at a very linear rate. So we can at least use a sanity check to expect a larger amount in claims in Jan-july 2019 than jan-july 2018. \n",
    "\n",
    "Also, Note that that with increase in ClaimAmount porportional to the number of petids enrolled. "
   ]
  },
  {
   "cell_type": "markdown",
   "metadata": {
    "hidden": true
   },
   "source": [
    "Let us exam this further, by observing Claim Totals by Species, Breed"
   ]
  },
  {
   "cell_type": "code",
   "execution_count": 335,
   "metadata": {
    "ExecuteTime": {
     "end_time": "2020-02-09T21:20:37.619514Z",
     "start_time": "2020-02-09T21:20:37.457105Z"
    },
    "hidden": true,
    "scrolled": false
   },
   "outputs": [
    {
     "data": {
      "text/plain": [
       "(array([0, 1, 2, 3, 4, 5, 6]), <a list of 7 Text xticklabel objects>)"
      ]
     },
     "execution_count": 335,
     "metadata": {},
     "output_type": "execute_result"
    },
    {
     "data": {
      "image/png": "[encoded data removed]",
      "text/plain": [
       "<Figure size 720x360 with 1 Axes>"
      ]
     },
     "metadata": {
      "needs_background": "light"
     },
     "output_type": "display_data"
    }
   ],
   "source": [
    "df1 = df.groupby(['Breed','Species'])[['ClaimAmount']].sum()#reset_index()\n",
    "df1.plot(kind='bar',figsize=(10,5))\n",
    "plt.xticks(rotation=45)"
   ]
  },
  {
   "cell_type": "markdown",
   "metadata": {
    "ExecuteTime": {
     "end_time": "2020-02-09T21:31:56.254790Z",
     "start_time": "2020-02-09T21:31:56.250648Z"
    },
    "hidden": true
   },
   "source": [
    "This clearly shows that within the data mixed breed dogs make up the majority of the claim amounts. This can also mean that most of the data consists of mixed breed dogs. "
   ]
  },
  {
   "cell_type": "code",
   "execution_count": 362,
   "metadata": {
    "ExecuteTime": {
     "end_time": "2020-02-09T21:32:12.717319Z",
     "start_time": "2020-02-09T21:32:12.556427Z"
    },
    "hidden": true
   },
   "outputs": [
    {
     "data": {
      "text/plain": [
       "(array([0, 1, 2, 3, 4, 5, 6]), <a list of 7 Text xticklabel objects>)"
      ]
     },
     "execution_count": 362,
     "metadata": {},
     "output_type": "execute_result"
    },
    {
     "data": {
      "image/png": "[encoded data removed]",
      "text/plain": [
       "<Figure size 720x360 with 1 Axes>"
      ]
     },
     "metadata": {
      "needs_background": "light"
     },
     "output_type": "display_data"
    }
   ],
   "source": [
    "#here we have average claim amount throughout history for the various breeds & species\n",
    "df1 = df.groupby(['Breed','Species'])[['ClaimAmount']].mean()\n",
    "df1.plot(kind='bar',figsize=(10,5))\n",
    "plt.xticks(rotation=45)"
   ]
  },
  {
   "cell_type": "markdown",
   "metadata": {
    "hidden": true
   },
   "source": [
    "Yearly, it can be observed that breed,species should be getting fairly the same claim amounts on average. "
   ]
  },
  {
   "cell_type": "markdown",
   "metadata": {
    "hidden": true
   },
   "source": [
    "Let's look at the claim amounts as a function of month,year. "
   ]
  },
  {
   "cell_type": "code",
   "execution_count": 186,
   "metadata": {
    "ExecuteTime": {
     "end_time": "2020-02-10T01:36:09.845129Z",
     "start_time": "2020-02-10T01:36:09.637506Z"
    },
    "hidden": true
   },
   "outputs": [
    {
     "data": {
      "text/plain": [
       "(array([-20.,   0.,  20.,  40.,  60.,  80., 100., 120.]),\n",
       " <a list of 8 Text xticklabel objects>)"
      ]
     },
     "execution_count": 186,
     "metadata": {},
     "output_type": "execute_result"
    },
    {
     "data": {
      "image/png": "[encoded data removed]",
      "text/plain": [
       "<Figure size 720x720 with 1 Axes>"
      ]
     },
     "metadata": {
      "needs_background": "light"
     },
     "output_type": "display_data"
    }
   ],
   "source": [
    "df1 = DF.loc[DF.ClaimYear >= 2010].groupby(['ClaimMonthNum','ClaimMonth','ClaimYear'])[['ClaimAmount']].sum().reset_index()\n",
    "df1 = df1.sort_values(by=['ClaimYear','ClaimMonthNum']).set_index(['ClaimMonth','ClaimYear'])\n",
    "df1[['ClaimAmount']].plot(figsize=(10,10))\n",
    "plt.xticks(rotation=45)"
   ]
  },
  {
   "cell_type": "markdown",
   "metadata": {
    "hidden": true
   },
   "source": [
    "When you look at claims amounts as a function of the time in month,year you do tend to see a increase in claims4. How that fairs on a per pet id level is different. "
   ]
  },
  {
   "cell_type": "markdown",
   "metadata": {
    "hidden": true
   },
   "source": [
    "## Thoughts"
   ]
  },
  {
   "cell_type": "markdown",
   "metadata": {
    "hidden": true
   },
   "source": [
    "I want to approach this problem with 2 different strategies based on my exploratory analysis. \n",
    "\n",
    "1. I want to try to model at a petid-claim level and see how good I can get individual pet id predictions. Then I can predict each petId that hasn't cancelled by July 2019 and get a predicted lower,upper, and mean value for 50,60,80,90% confidence level values. I can then sum these predicted values to get what we'd expected sum with prediction level and get a value per petId for claim amounts. I can use a sanity check of Jan-July 2018 to see if the expected value is above that as noticed in exploratory analysis that Jan-July 2019 should be greater. \n",
    "\n",
    "2. I want to reduce the data to a claim month,year level and try to predict the total amount of claims for July 2019. \n"
   ]
  },
  {
   "cell_type": "markdown",
   "metadata": {
    "heading_collapsed": true
   },
   "source": [
    "# Features Strategy 1"
   ]
  },
  {
   "cell_type": "code",
   "execution_count": 5,
   "metadata": {
    "ExecuteTime": {
     "end_time": "2020-02-10T05:38:58.848544Z",
     "start_time": "2020-02-10T05:38:58.845797Z"
    },
    "hidden": true
   },
   "outputs": [
    {
     "name": "stdout",
     "output_type": "stream",
     "text": [
      "\n"
     ]
    }
   ],
   "source": [
    "\"\"\"\n",
    "Assume all pets are treated equally \n",
    "    -> petid won't be used in fts\n",
    "    \n",
    "Fts 1.0\n",
    "'ClaimMonth' = Claim month\n",
    "'ClaimYear' = Claim Year\n",
    "'EnrollMonth' = Enroll month\n",
    "'EnrollYear'= Enroll Year\n",
    "'PreviousClaims' = # of previous claims prior to the current claim for pet id\n",
    "'EstCurrentAge' = Estimated Current Age \n",
    "'EstEnrollAge' = estimated enrollment age\n",
    "'MonthsFromEnroll' = # of months from enrollment\n",
    "\n",
    "Fts 2.0 \n",
    "Added \n",
    "'Species' = Species of animal\n",
    "'Breed' = Breed of animal\n",
    "\n",
    "Fts 3.0\n",
    "Add/Generate\n",
    "Quarter = Quarter for that year\n",
    "PreviousClaimsYear = # of claims prior to current claim for that year\n",
    "PetQAmtTotal = Total Claim Amount for that PetId for that quarter and year\n",
    "QuarterAmt% = Total Amount % for that PetId prior to the current claim\n",
    "= PetId,Quarter,Year Claim Amt/Total Amount Breed,Species,AgeAtEnroll,Quarter,Year\n",
    "\n",
    "Fts 4.0\n",
    "Removed \n",
    "PetQAmtTotal\n",
    "QuarterAmt%\n",
    "\n",
    "Added\n",
    "AvgYearlyVisits = Avg Yearly Visits for PetId\n",
    "AvgYearlyClaimAmt = Avg Yearly Claim Amount for PetId\n",
    "***only look at data from 2018-2019\n",
    "\n",
    "Fts 5.0\n",
    "Added \n",
    "AvgYearlyBreedSpeciesClaimAmt = Avg Yearly Claim Amount for Breed&Species\n",
    "***Look at 2010-2019 data\n",
    "\"\"\"\n",
    "print('')"
   ]
  },
  {
   "cell_type": "code",
   "execution_count": 59,
   "metadata": {
    "ExecuteTime": {
     "end_time": "2020-02-10T18:18:40.106294Z",
     "start_time": "2020-02-10T18:18:40.096475Z"
    },
    "hidden": true
   },
   "outputs": [],
   "source": [
    "#Select DataFrame Population\n",
    "#DF = DF.loc[DF.ClaimYear>=2018]\n",
    "\n",
    "#determining categorical and numerical features\n",
    "categorical = ['ClaimMonth',\n",
    "               'ClaimYear',\n",
    "               'EnrollMonth',\n",
    "               'EnrollYear',\n",
    "               'Species',\n",
    "               'Breed'\n",
    "               #'Quarter'\n",
    "              ]\n",
    "numerical = ['PreviousClaims',\n",
    "             'EstCurrentAge',\n",
    "             'EstEnrollAge',\n",
    "             'MonthsFromEnroll',\n",
    "             'PreviousClaimsYear',\n",
    "             'AvgYearlyVisits',\n",
    "             'AvgYearlyClaimAmt',\n",
    "             'AvgYearlyBreedSpeciesClaimAmt'\n",
    "             #'PetQAmtTotal'\n",
    "             #'QuarterAmt%'\n",
    "             #'YearsFromEnroll'\n",
    "             #'DaysFromEnroll'\n",
    "            ]\n",
    "features = categorical + numerical\n",
    "X = DF[features]\n",
    "y = DF['ClaimAmount']\n",
    "X_train,X_test,y_train,y_test = train_test_split(X,y,test_size=.2,random_state=42)"
   ]
  },
  {
   "cell_type": "markdown",
   "metadata": {
    "heading_collapsed": true
   },
   "source": [
    "# Features Strategy 2"
   ]
  },
  {
   "cell_type": "code",
   "execution_count": 10,
   "metadata": {
    "ExecuteTime": {
     "end_time": "2020-02-10T17:44:39.142077Z",
     "start_time": "2020-02-10T17:44:39.136087Z"
    },
    "hidden": true
   },
   "outputs": [
    {
     "name": "stdout",
     "output_type": "stream",
     "text": [
      "\n"
     ]
    }
   ],
   "source": [
    "\"\"\"    \n",
    "Fts 1.0\n",
    "ClaimMonth = Month of Claims\n",
    "ClaimYear = Year of Claims\n",
    "Enrolled = # of pets enrolled at the current time in that month, year\n",
    "\"\"\"\n",
    "print('')"
   ]
  },
  {
   "cell_type": "code",
   "execution_count": 9,
   "metadata": {
    "ExecuteTime": {
     "end_time": "2020-02-10T17:44:36.675256Z",
     "start_time": "2020-02-10T17:44:36.663454Z"
    },
    "hidden": true
   },
   "outputs": [],
   "source": [
    "#determining categorical and numerical features\n",
    "categorical = ['ClaimMonth',\n",
    "               'ClaimYear'\n",
    "              ]\n",
    "numerical = ['Enrolled']\n",
    "features = categorical + numerical\n",
    "X = DF[features]\n",
    "y = DF['ClaimAmtTotal']\n",
    "X_train,X_test,y_train,y_test = train_test_split(X,y,test_size=.2,random_state=42)"
   ]
  },
  {
   "cell_type": "markdown",
   "metadata": {
    "heading_collapsed": true
   },
   "source": [
    "# PC Analysis Using Dataset for Strategy 1"
   ]
  },
  {
   "cell_type": "code",
   "execution_count": 10,
   "metadata": {
    "ExecuteTime": {
     "end_time": "2020-02-09T22:12:42.717455Z",
     "start_time": "2020-02-09T22:12:37.383611Z"
    },
    "hidden": true
   },
   "outputs": [
    {
     "data": {
      "image/png": "[encoded data removed]",
      "text/plain": [
       "<Figure size 432x288 with 1 Axes>"
      ]
     },
     "metadata": {
      "needs_background": "light"
     },
     "output_type": "display_data"
    }
   ],
   "source": [
    "from sklearn.decomposition import PCA\n",
    "from sklearn.cluster import KMeans\n",
    "\n",
    "x = build_dummies(DF[features],categorical)\n",
    "#determine optimal clusters k\n",
    "distortions = []\n",
    "for i in range(1,9):\n",
    "    km = KMeans(n_clusters=i,\n",
    "                init='k-means++',\n",
    "                n_init=10,\n",
    "                max_iter=300,\n",
    "                random_state=0)\n",
    "    km.fit(x)\n",
    "    distortions.append(km.inertia_)\n",
    "plt.plot(range(1,9),distortions,marker='o')\n",
    "plt.xlabel('Number of Clusters')\n",
    "plt.ylabel('Distortion')\n",
    "plt.show()"
   ]
  },
  {
   "cell_type": "code",
   "execution_count": 11,
   "metadata": {
    "ExecuteTime": {
     "end_time": "2020-02-09T22:12:42.824192Z",
     "start_time": "2020-02-09T22:12:42.719011Z"
    },
    "hidden": true
   },
   "outputs": [
    {
     "name": "stdout",
     "output_type": "stream",
     "text": [
      "[9.99738396e-01 1.11804297e-04]\n",
      "EigenVectors\n",
      "\n"
     ]
    },
    {
     "data": {
      "text/html": [
       "<div>\n",
       "<style scoped>\n",
       "    .dataframe tbody tr th:only-of-type {\n",
       "        vertical-align: middle;\n",
       "    }\n",
       "\n",
       "    .dataframe tbody tr th {\n",
       "        vertical-align: top;\n",
       "    }\n",
       "\n",
       "    .dataframe thead th {\n",
       "        text-align: right;\n",
       "    }\n",
       "</style>\n",
       "<table border=\"1\" class=\"dataframe\">\n",
       "  <thead>\n",
       "    <tr style=\"text-align: right;\">\n",
       "      <th></th>\n",
       "      <th>PC1</th>\n",
       "      <th>PC2</th>\n",
       "    </tr>\n",
       "  </thead>\n",
       "  <tbody>\n",
       "    <tr>\n",
       "      <th>Species_Cat</th>\n",
       "      <td>1.147913e-05</td>\n",
       "      <td>-0.000827</td>\n",
       "    </tr>\n",
       "    <tr>\n",
       "      <th>EnrollYear_2012</th>\n",
       "      <td>9.192899e-06</td>\n",
       "      <td>-0.000667</td>\n",
       "    </tr>\n",
       "    <tr>\n",
       "      <th>EnrollYear_2016</th>\n",
       "      <td>5.906912e-06</td>\n",
       "      <td>0.001353</td>\n",
       "    </tr>\n",
       "    <tr>\n",
       "      <th>Breed_Golden Retriever</th>\n",
       "      <td>5.278787e-06</td>\n",
       "      <td>-0.001179</td>\n",
       "    </tr>\n",
       "    <tr>\n",
       "      <th>EnrollMonth_September</th>\n",
       "      <td>4.162552e-06</td>\n",
       "      <td>-0.000005</td>\n",
       "    </tr>\n",
       "    <tr>\n",
       "      <th>ClaimYear_2013</th>\n",
       "      <td>4.160226e-06</td>\n",
       "      <td>0.000898</td>\n",
       "    </tr>\n",
       "    <tr>\n",
       "      <th>EnrollMonth_July</th>\n",
       "      <td>3.917786e-06</td>\n",
       "      <td>0.000191</td>\n",
       "    </tr>\n",
       "    <tr>\n",
       "      <th>ClaimYear_2012</th>\n",
       "      <td>3.023961e-06</td>\n",
       "      <td>0.000683</td>\n",
       "    </tr>\n",
       "    <tr>\n",
       "      <th>EnrollYear_2011</th>\n",
       "      <td>2.983439e-06</td>\n",
       "      <td>-0.001224</td>\n",
       "    </tr>\n",
       "    <tr>\n",
       "      <th>EnrollMonth_December</th>\n",
       "      <td>2.889890e-06</td>\n",
       "      <td>0.000291</td>\n",
       "    </tr>\n",
       "    <tr>\n",
       "      <th>EnrollYear_2018</th>\n",
       "      <td>2.445037e-06</td>\n",
       "      <td>0.000543</td>\n",
       "    </tr>\n",
       "    <tr>\n",
       "      <th>ClaimYear_2014</th>\n",
       "      <td>2.258149e-06</td>\n",
       "      <td>0.001118</td>\n",
       "    </tr>\n",
       "    <tr>\n",
       "      <th>EnrollMonth_June</th>\n",
       "      <td>1.652397e-06</td>\n",
       "      <td>0.000087</td>\n",
       "    </tr>\n",
       "    <tr>\n",
       "      <th>ClaimYear_2019</th>\n",
       "      <td>1.648886e-06</td>\n",
       "      <td>-0.001725</td>\n",
       "    </tr>\n",
       "    <tr>\n",
       "      <th>ClaimYear_2011</th>\n",
       "      <td>1.358735e-06</td>\n",
       "      <td>0.000471</td>\n",
       "    </tr>\n",
       "    <tr>\n",
       "      <th>Breed_Chihuahua</th>\n",
       "      <td>1.354303e-06</td>\n",
       "      <td>0.000819</td>\n",
       "    </tr>\n",
       "    <tr>\n",
       "      <th>ClaimMonth_January</th>\n",
       "      <td>9.988238e-07</td>\n",
       "      <td>-0.000078</td>\n",
       "    </tr>\n",
       "    <tr>\n",
       "      <th>EnrollYear_2009</th>\n",
       "      <td>9.617425e-07</td>\n",
       "      <td>-0.000090</td>\n",
       "    </tr>\n",
       "    <tr>\n",
       "      <th>EnrollMonth_March</th>\n",
       "      <td>7.219411e-07</td>\n",
       "      <td>0.000449</td>\n",
       "    </tr>\n",
       "    <tr>\n",
       "      <th>ClaimMonth_June</th>\n",
       "      <td>6.769672e-07</td>\n",
       "      <td>-0.000091</td>\n",
       "    </tr>\n",
       "    <tr>\n",
       "      <th>Breed_Ragdoll</th>\n",
       "      <td>6.238635e-07</td>\n",
       "      <td>0.000088</td>\n",
       "    </tr>\n",
       "    <tr>\n",
       "      <th>ClaimYear_2010</th>\n",
       "      <td>4.827452e-07</td>\n",
       "      <td>0.000145</td>\n",
       "    </tr>\n",
       "    <tr>\n",
       "      <th>ClaimMonth_September</th>\n",
       "      <td>3.468033e-07</td>\n",
       "      <td>0.000105</td>\n",
       "    </tr>\n",
       "    <tr>\n",
       "      <th>ClaimMonth_November</th>\n",
       "      <td>3.412264e-07</td>\n",
       "      <td>-0.000003</td>\n",
       "    </tr>\n",
       "    <tr>\n",
       "      <th>ClaimMonth_April</th>\n",
       "      <td>2.040144e-07</td>\n",
       "      <td>-0.000119</td>\n",
       "    </tr>\n",
       "    <tr>\n",
       "      <th>EnrollYear_2015</th>\n",
       "      <td>2.003288e-07</td>\n",
       "      <td>0.001657</td>\n",
       "    </tr>\n",
       "    <tr>\n",
       "      <th>EnrollYear_2019</th>\n",
       "      <td>1.782152e-07</td>\n",
       "      <td>0.000119</td>\n",
       "    </tr>\n",
       "    <tr>\n",
       "      <th>ClaimMonth_October</th>\n",
       "      <td>1.008000e-07</td>\n",
       "      <td>-0.000004</td>\n",
       "    </tr>\n",
       "    <tr>\n",
       "      <th>ClaimMonth_February</th>\n",
       "      <td>6.213687e-08</td>\n",
       "      <td>-0.000107</td>\n",
       "    </tr>\n",
       "    <tr>\n",
       "      <th>EnrollMonth_April</th>\n",
       "      <td>-6.051021e-08</td>\n",
       "      <td>-0.000355</td>\n",
       "    </tr>\n",
       "    <tr>\n",
       "      <th>ClaimYear_2015</th>\n",
       "      <td>-1.060082e-07</td>\n",
       "      <td>0.001112</td>\n",
       "    </tr>\n",
       "    <tr>\n",
       "      <th>ClaimMonth_December</th>\n",
       "      <td>-1.623781e-07</td>\n",
       "      <td>0.000005</td>\n",
       "    </tr>\n",
       "    <tr>\n",
       "      <th>ClaimMonth_July</th>\n",
       "      <td>-2.529118e-07</td>\n",
       "      <td>0.000259</td>\n",
       "    </tr>\n",
       "    <tr>\n",
       "      <th>ClaimMonth_May</th>\n",
       "      <td>-3.236420e-07</td>\n",
       "      <td>-0.000160</td>\n",
       "    </tr>\n",
       "    <tr>\n",
       "      <th>EnrollYear_2017</th>\n",
       "      <td>-3.487320e-07</td>\n",
       "      <td>0.000813</td>\n",
       "    </tr>\n",
       "    <tr>\n",
       "      <th>EnrollMonth_May</th>\n",
       "      <td>-6.319159e-07</td>\n",
       "      <td>-0.000213</td>\n",
       "    </tr>\n",
       "    <tr>\n",
       "      <th>ClaimMonth_March</th>\n",
       "      <td>-7.260221e-07</td>\n",
       "      <td>0.000055</td>\n",
       "    </tr>\n",
       "    <tr>\n",
       "      <th>EnrollMonth_February</th>\n",
       "      <td>-7.913007e-07</td>\n",
       "      <td>-0.001213</td>\n",
       "    </tr>\n",
       "    <tr>\n",
       "      <th>EnrollMonth_January</th>\n",
       "      <td>-8.072391e-07</td>\n",
       "      <td>0.000157</td>\n",
       "    </tr>\n",
       "    <tr>\n",
       "      <th>ClaimMonth_August</th>\n",
       "      <td>-1.265818e-06</td>\n",
       "      <td>0.000138</td>\n",
       "    </tr>\n",
       "    <tr>\n",
       "      <th>Breed_French Bulldog</th>\n",
       "      <td>-1.367814e-06</td>\n",
       "      <td>0.001988</td>\n",
       "    </tr>\n",
       "    <tr>\n",
       "      <th>EnrollMonth_August</th>\n",
       "      <td>-2.041620e-06</td>\n",
       "      <td>0.000099</td>\n",
       "    </tr>\n",
       "    <tr>\n",
       "      <th>ClaimYear_2016</th>\n",
       "      <td>-2.167529e-06</td>\n",
       "      <td>0.000408</td>\n",
       "    </tr>\n",
       "    <tr>\n",
       "      <th>Breed_Mixed Breed</th>\n",
       "      <td>-2.886918e-06</td>\n",
       "      <td>-0.000738</td>\n",
       "    </tr>\n",
       "    <tr>\n",
       "      <th>Breed_Great Dane</th>\n",
       "      <td>-3.002222e-06</td>\n",
       "      <td>-0.000978</td>\n",
       "    </tr>\n",
       "    <tr>\n",
       "      <th>EnrollYear_2013</th>\n",
       "      <td>-3.236127e-06</td>\n",
       "      <td>-0.001245</td>\n",
       "    </tr>\n",
       "    <tr>\n",
       "      <th>EnrollMonth_October</th>\n",
       "      <td>-3.851351e-06</td>\n",
       "      <td>0.000351</td>\n",
       "    </tr>\n",
       "    <tr>\n",
       "      <th>EnrollYear_2010</th>\n",
       "      <td>-3.892231e-06</td>\n",
       "      <td>-0.001711</td>\n",
       "    </tr>\n",
       "    <tr>\n",
       "      <th>ClaimYear_2017</th>\n",
       "      <td>-4.633212e-06</td>\n",
       "      <td>-0.000807</td>\n",
       "    </tr>\n",
       "    <tr>\n",
       "      <th>EnrollMonth_November</th>\n",
       "      <td>-5.160630e-06</td>\n",
       "      <td>0.000161</td>\n",
       "    </tr>\n",
       "    <tr>\n",
       "      <th>ClaimYear_2018</th>\n",
       "      <td>-6.025952e-06</td>\n",
       "      <td>-0.002302</td>\n",
       "    </tr>\n",
       "    <tr>\n",
       "      <th>Species_Dog</th>\n",
       "      <td>-1.147913e-05</td>\n",
       "      <td>0.000827</td>\n",
       "    </tr>\n",
       "    <tr>\n",
       "      <th>EnrollYear_2014</th>\n",
       "      <td>-1.439148e-05</td>\n",
       "      <td>0.000451</td>\n",
       "    </tr>\n",
       "    <tr>\n",
       "      <th>EstEnrollAge</th>\n",
       "      <td>-2.414083e-04</td>\n",
       "      <td>-0.006455</td>\n",
       "    </tr>\n",
       "    <tr>\n",
       "      <th>EstCurrentAge</th>\n",
       "      <td>-3.007756e-04</td>\n",
       "      <td>-0.053133</td>\n",
       "    </tr>\n",
       "    <tr>\n",
       "      <th>AvgYearlyBreedSpeciesClaimAmt</th>\n",
       "      <td>-3.136332e-04</td>\n",
       "      <td>0.361442</td>\n",
       "    </tr>\n",
       "    <tr>\n",
       "      <th>MonthsFromEnroll</th>\n",
       "      <td>-7.080511e-04</td>\n",
       "      <td>-0.555767</td>\n",
       "    </tr>\n",
       "    <tr>\n",
       "      <th>PreviousClaimsYear</th>\n",
       "      <td>-1.060464e-03</td>\n",
       "      <td>-0.097759</td>\n",
       "    </tr>\n",
       "    <tr>\n",
       "      <th>AvgYearlyVisits</th>\n",
       "      <td>-1.605073e-03</td>\n",
       "      <td>-0.100136</td>\n",
       "    </tr>\n",
       "    <tr>\n",
       "      <th>PreviousClaims</th>\n",
       "      <td>-3.538042e-03</td>\n",
       "      <td>-0.733476</td>\n",
       "    </tr>\n",
       "    <tr>\n",
       "      <th>AvgYearlyClaimAmt</th>\n",
       "      <td>-9.999915e-01</td>\n",
       "      <td>0.003157</td>\n",
       "    </tr>\n",
       "  </tbody>\n",
       "</table>\n",
       "</div>"
      ],
      "text/plain": [
       "                                        PC1       PC2\n",
       "Species_Cat                    1.147913e-05 -0.000827\n",
       "EnrollYear_2012                9.192899e-06 -0.000667\n",
       "EnrollYear_2016                5.906912e-06  0.001353\n",
       "Breed_Golden Retriever         5.278787e-06 -0.001179\n",
       "EnrollMonth_September          4.162552e-06 -0.000005\n",
       "ClaimYear_2013                 4.160226e-06  0.000898\n",
       "EnrollMonth_July               3.917786e-06  0.000191\n",
       "ClaimYear_2012                 3.023961e-06  0.000683\n",
       "EnrollYear_2011                2.983439e-06 -0.001224\n",
       "EnrollMonth_December           2.889890e-06  0.000291\n",
       "EnrollYear_2018                2.445037e-06  0.000543\n",
       "ClaimYear_2014                 2.258149e-06  0.001118\n",
       "EnrollMonth_June               1.652397e-06  0.000087\n",
       "ClaimYear_2019                 1.648886e-06 -0.001725\n",
       "ClaimYear_2011                 1.358735e-06  0.000471\n",
       "Breed_Chihuahua                1.354303e-06  0.000819\n",
       "ClaimMonth_January             9.988238e-07 -0.000078\n",
       "EnrollYear_2009                9.617425e-07 -0.000090\n",
       "EnrollMonth_March              7.219411e-07  0.000449\n",
       "ClaimMonth_June                6.769672e-07 -0.000091\n",
       "Breed_Ragdoll                  6.238635e-07  0.000088\n",
       "ClaimYear_2010                 4.827452e-07  0.000145\n",
       "ClaimMonth_September           3.468033e-07  0.000105\n",
       "ClaimMonth_November            3.412264e-07 -0.000003\n",
       "ClaimMonth_April               2.040144e-07 -0.000119\n",
       "EnrollYear_2015                2.003288e-07  0.001657\n",
       "EnrollYear_2019                1.782152e-07  0.000119\n",
       "ClaimMonth_October             1.008000e-07 -0.000004\n",
       "ClaimMonth_February            6.213687e-08 -0.000107\n",
       "EnrollMonth_April             -6.051021e-08 -0.000355\n",
       "ClaimYear_2015                -1.060082e-07  0.001112\n",
       "ClaimMonth_December           -1.623781e-07  0.000005\n",
       "ClaimMonth_July               -2.529118e-07  0.000259\n",
       "ClaimMonth_May                -3.236420e-07 -0.000160\n",
       "EnrollYear_2017               -3.487320e-07  0.000813\n",
       "EnrollMonth_May               -6.319159e-07 -0.000213\n",
       "ClaimMonth_March              -7.260221e-07  0.000055\n",
       "EnrollMonth_February          -7.913007e-07 -0.001213\n",
       "EnrollMonth_January           -8.072391e-07  0.000157\n",
       "ClaimMonth_August             -1.265818e-06  0.000138\n",
       "Breed_French Bulldog          -1.367814e-06  0.001988\n",
       "EnrollMonth_August            -2.041620e-06  0.000099\n",
       "ClaimYear_2016                -2.167529e-06  0.000408\n",
       "Breed_Mixed Breed             -2.886918e-06 -0.000738\n",
       "Breed_Great Dane              -3.002222e-06 -0.000978\n",
       "EnrollYear_2013               -3.236127e-06 -0.001245\n",
       "EnrollMonth_October           -3.851351e-06  0.000351\n",
       "EnrollYear_2010               -3.892231e-06 -0.001711\n",
       "ClaimYear_2017                -4.633212e-06 -0.000807\n",
       "EnrollMonth_November          -5.160630e-06  0.000161\n",
       "ClaimYear_2018                -6.025952e-06 -0.002302\n",
       "Species_Dog                   -1.147913e-05  0.000827\n",
       "EnrollYear_2014               -1.439148e-05  0.000451\n",
       "EstEnrollAge                  -2.414083e-04 -0.006455\n",
       "EstCurrentAge                 -3.007756e-04 -0.053133\n",
       "AvgYearlyBreedSpeciesClaimAmt -3.136332e-04  0.361442\n",
       "MonthsFromEnroll              -7.080511e-04 -0.555767\n",
       "PreviousClaimsYear            -1.060464e-03 -0.097759\n",
       "AvgYearlyVisits               -1.605073e-03 -0.100136\n",
       "PreviousClaims                -3.538042e-03 -0.733476\n",
       "AvgYearlyClaimAmt             -9.999915e-01  0.003157"
      ]
     },
     "execution_count": 11,
     "metadata": {},
     "output_type": "execute_result"
    }
   ],
   "source": [
    "pca = PCA(n_components=2)\n",
    "pca.fit(x)\n",
    "pca_PCs = pca.transform(x)\n",
    "print(pca.explained_variance_ratio_)\n",
    "\n",
    "RR = x.cov()\n",
    "eig_val, eig_vec = np.linalg.eig(RR)\n",
    "pc_label = ['PC%d' % (i+1)for i in range(len(x.columns))]\n",
    "dfEig = pd.DataFrame(eig_vec,index=x.columns,columns=pc_label)\n",
    "print('EigenVectors\\n')\n",
    "dfEig.sort_values(['PC1','PC2'],ascending=[0,0])[['PC1','PC2']]"
   ]
  },
  {
   "cell_type": "markdown",
   "metadata": {
    "hidden": true
   },
   "source": [
    "I did a PCA on the features. You can see that PC1 does explain 99.7% of the variance of the data, where AvgYearlyClaimAmt seems to be the value that strongly accounts for the variance. "
   ]
  },
  {
   "cell_type": "markdown",
   "metadata": {
    "heading_collapsed": true
   },
   "source": [
    "# PCA for Strategy 2"
   ]
  },
  {
   "cell_type": "code",
   "execution_count": 229,
   "metadata": {
    "ExecuteTime": {
     "end_time": "2020-02-10T01:54:25.106927Z",
     "start_time": "2020-02-10T01:54:24.769462Z"
    },
    "hidden": true
   },
   "outputs": [
    {
     "data": {
      "image/png": "[encoded data removed]",
      "text/plain": [
       "<Figure size 576x576 with 1 Axes>"
      ]
     },
     "metadata": {
      "needs_background": "light"
     },
     "output_type": "display_data"
    },
    {
     "name": "stdout",
     "output_type": "stream",
     "text": [
      "[9.99368645e-01 6.30755381e-04]\n",
      "EigenVectors\n",
      "\n"
     ]
    },
    {
     "data": {
      "text/html": [
       "<div>\n",
       "<style scoped>\n",
       "    .dataframe tbody tr th:only-of-type {\n",
       "        vertical-align: middle;\n",
       "    }\n",
       "\n",
       "    .dataframe tbody tr th {\n",
       "        vertical-align: top;\n",
       "    }\n",
       "\n",
       "    .dataframe thead th {\n",
       "        text-align: right;\n",
       "    }\n",
       "</style>\n",
       "<table border=\"1\" class=\"dataframe\">\n",
       "  <thead>\n",
       "    <tr style=\"text-align: right;\">\n",
       "      <th></th>\n",
       "      <th>PC1</th>\n",
       "      <th>PC2</th>\n",
       "    </tr>\n",
       "  </thead>\n",
       "  <tbody>\n",
       "    <tr>\n",
       "      <th>ClaimYear_2010</th>\n",
       "      <td>9.684152e-05</td>\n",
       "      <td>0.002458</td>\n",
       "    </tr>\n",
       "    <tr>\n",
       "      <th>ClaimYear_2011</th>\n",
       "      <td>7.763907e-05</td>\n",
       "      <td>0.000947</td>\n",
       "    </tr>\n",
       "    <tr>\n",
       "      <th>ClaimYear_2012</th>\n",
       "      <td>5.764387e-05</td>\n",
       "      <td>-0.000493</td>\n",
       "    </tr>\n",
       "    <tr>\n",
       "      <th>ClaimYear_2013</th>\n",
       "      <td>3.442996e-05</td>\n",
       "      <td>-0.001916</td>\n",
       "    </tr>\n",
       "    <tr>\n",
       "      <th>ClaimYear_2014</th>\n",
       "      <td>5.343723e-06</td>\n",
       "      <td>-0.001743</td>\n",
       "    </tr>\n",
       "    <tr>\n",
       "      <th>ClaimMonth_January</th>\n",
       "      <td>3.789170e-06</td>\n",
       "      <td>0.000037</td>\n",
       "    </tr>\n",
       "    <tr>\n",
       "      <th>ClaimMonth_February</th>\n",
       "      <td>2.709272e-06</td>\n",
       "      <td>-0.001227</td>\n",
       "    </tr>\n",
       "    <tr>\n",
       "      <th>ClaimMonth_July</th>\n",
       "      <td>2.577186e-06</td>\n",
       "      <td>0.000221</td>\n",
       "    </tr>\n",
       "    <tr>\n",
       "      <th>ClaimMonth_March</th>\n",
       "      <td>1.216742e-06</td>\n",
       "      <td>0.000802</td>\n",
       "    </tr>\n",
       "    <tr>\n",
       "      <th>ClaimMonth_August</th>\n",
       "      <td>1.187084e-06</td>\n",
       "      <td>0.000570</td>\n",
       "    </tr>\n",
       "    <tr>\n",
       "      <th>ClaimMonth_April</th>\n",
       "      <td>5.632744e-08</td>\n",
       "      <td>0.000454</td>\n",
       "    </tr>\n",
       "    <tr>\n",
       "      <th>ClaimMonth_September</th>\n",
       "      <td>-4.161925e-08</td>\n",
       "      <td>-0.000327</td>\n",
       "    </tr>\n",
       "    <tr>\n",
       "      <th>ClaimMonth_October</th>\n",
       "      <td>-1.176374e-06</td>\n",
       "      <td>-0.000341</td>\n",
       "    </tr>\n",
       "    <tr>\n",
       "      <th>ClaimMonth_May</th>\n",
       "      <td>-1.476413e-06</td>\n",
       "      <td>0.000880</td>\n",
       "    </tr>\n",
       "    <tr>\n",
       "      <th>ClaimMonth_November</th>\n",
       "      <td>-2.281462e-06</td>\n",
       "      <td>-0.001098</td>\n",
       "    </tr>\n",
       "    <tr>\n",
       "      <th>ClaimMonth_June</th>\n",
       "      <td>-2.960307e-06</td>\n",
       "      <td>0.000419</td>\n",
       "    </tr>\n",
       "    <tr>\n",
       "      <th>ClaimMonth_December</th>\n",
       "      <td>-3.599607e-06</td>\n",
       "      <td>-0.000389</td>\n",
       "    </tr>\n",
       "    <tr>\n",
       "      <th>ClaimYear_2015</th>\n",
       "      <td>-2.743596e-05</td>\n",
       "      <td>-0.002005</td>\n",
       "    </tr>\n",
       "    <tr>\n",
       "      <th>ClaimYear_2019</th>\n",
       "      <td>-4.195763e-05</td>\n",
       "      <td>0.002075</td>\n",
       "    </tr>\n",
       "    <tr>\n",
       "      <th>ClaimYear_2016</th>\n",
       "      <td>-5.801583e-05</td>\n",
       "      <td>-0.001557</td>\n",
       "    </tr>\n",
       "    <tr>\n",
       "      <th>ClaimYear_2017</th>\n",
       "      <td>-6.761372e-05</td>\n",
       "      <td>-0.000989</td>\n",
       "    </tr>\n",
       "    <tr>\n",
       "      <th>ClaimYear_2018</th>\n",
       "      <td>-7.687501e-05</td>\n",
       "      <td>0.003223</td>\n",
       "    </tr>\n",
       "    <tr>\n",
       "      <th>TotalVisits</th>\n",
       "      <td>-1.380078e-01</td>\n",
       "      <td>0.990411</td>\n",
       "    </tr>\n",
       "    <tr>\n",
       "      <th>Enrolled</th>\n",
       "      <td>-9.904311e-01</td>\n",
       "      <td>-0.138005</td>\n",
       "    </tr>\n",
       "  </tbody>\n",
       "</table>\n",
       "</div>"
      ],
      "text/plain": [
       "                               PC1       PC2\n",
       "ClaimYear_2010        9.684152e-05  0.002458\n",
       "ClaimYear_2011        7.763907e-05  0.000947\n",
       "ClaimYear_2012        5.764387e-05 -0.000493\n",
       "ClaimYear_2013        3.442996e-05 -0.001916\n",
       "ClaimYear_2014        5.343723e-06 -0.001743\n",
       "ClaimMonth_January    3.789170e-06  0.000037\n",
       "ClaimMonth_February   2.709272e-06 -0.001227\n",
       "ClaimMonth_July       2.577186e-06  0.000221\n",
       "ClaimMonth_March      1.216742e-06  0.000802\n",
       "ClaimMonth_August     1.187084e-06  0.000570\n",
       "ClaimMonth_April      5.632744e-08  0.000454\n",
       "ClaimMonth_September -4.161925e-08 -0.000327\n",
       "ClaimMonth_October   -1.176374e-06 -0.000341\n",
       "ClaimMonth_May       -1.476413e-06  0.000880\n",
       "ClaimMonth_November  -2.281462e-06 -0.001098\n",
       "ClaimMonth_June      -2.960307e-06  0.000419\n",
       "ClaimMonth_December  -3.599607e-06 -0.000389\n",
       "ClaimYear_2015       -2.743596e-05 -0.002005\n",
       "ClaimYear_2019       -4.195763e-05  0.002075\n",
       "ClaimYear_2016       -5.801583e-05 -0.001557\n",
       "ClaimYear_2017       -6.761372e-05 -0.000989\n",
       "ClaimYear_2018       -7.687501e-05  0.003223\n",
       "TotalVisits          -1.380078e-01  0.990411\n",
       "Enrolled             -9.904311e-01 -0.138005"
      ]
     },
     "execution_count": 229,
     "metadata": {},
     "output_type": "execute_result"
    }
   ],
   "source": [
    "from sklearn.decomposition import PCA\n",
    "from sklearn.cluster import KMeans\n",
    "\n",
    "x = build_dummies(DF[features],categorical)\n",
    "#determine optimal clusters k\n",
    "distortions = []\n",
    "for i in range(1,9):\n",
    "    km = KMeans(n_clusters=i,\n",
    "                init='k-means++',\n",
    "                n_init=10,\n",
    "                max_iter=300,\n",
    "                random_state=0)\n",
    "    km.fit(x)\n",
    "    distortions.append(km.inertia_)\n",
    "plt.plot(range(1,9),distortions,marker='o')\n",
    "plt.xlabel('Number of Clusters')\n",
    "plt.ylabel('Distortion')\n",
    "plt.show()\n",
    "\n",
    "pca = PCA(n_components=2)\n",
    "pca.fit(x)\n",
    "pca_PCs = pca.transform(x)\n",
    "print(pca.explained_variance_ratio_)\n",
    "\n",
    "RR = x.cov()\n",
    "eig_val, eig_vec = np.linalg.eig(RR)\n",
    "pc_label = ['PC%d' % (i+1)for i in range(len(x.columns))]\n",
    "dfEig = pd.DataFrame(eig_vec,index=x.columns,columns=pc_label)\n",
    "print('EigenVectors\\n')\n",
    "dfEig.sort_values(['PC1','PC2'],ascending=[0,0])[['PC1','PC2']]"
   ]
  },
  {
   "cell_type": "markdown",
   "metadata": {
    "hidden": true
   },
   "source": [
    "Should not be surprised that the # of visits & # of enrolled at time explain majority of variance in the data"
   ]
  },
  {
   "cell_type": "markdown",
   "metadata": {
    "heading_collapsed": true
   },
   "source": [
    "# Modeling Strategy 1"
   ]
  },
  {
   "cell_type": "markdown",
   "metadata": {
    "hidden": true
   },
   "source": [
    "Recap of the modeling strategy 1\n",
    "1. I want to try to model at a petid-claim level and see how good I can get individual pet id predictions. Then I can predict each petId that hasn't cancelled by July 2019 and get a predicted lower,upper, and mean value for 50% confidence level values. I can then sum these predicted values to get what we'd expected sum with prediction level and get a value per petId for claim amounts. I can use a sanity check of Jan-July 2018 to see if the expected value is above that as noticed in exploratory analysis that Jan-July 2019 should be greater. \n",
    "\n",
    "I will demonstrate few models: Linear, Ridge, and Gradient Boosted Regressions. I normally run data through Linear Model first as it is the quickest. If the results seem to be improving I will run them through the other models. \n",
    "\n",
    "For each model, I will create a param_grid of params to run through my GridSearchCV. Also, I created a pipeline that will combine numerical and categorical values (using one hot encoding) together. The pipeline combines the features together, then runs them thru a standardization process, and then trains the data on the model. Finally, I will record each train & test score for each of the models to document my success"
   ]
  },
  {
   "cell_type": "code",
   "execution_count": 7,
   "metadata": {
    "ExecuteTime": {
     "end_time": "2020-02-10T05:39:06.375514Z",
     "start_time": "2020-02-10T05:39:06.370304Z"
    },
    "hidden": true
   },
   "outputs": [],
   "source": [
    "#cross validation\n",
    "#test/validation set being 25% of the 80% of training size being 20% of the original set of data. \n",
    "cv = ShuffleSplit(n_splits=100,test_size=.25,random_state=42)"
   ]
  },
  {
   "cell_type": "markdown",
   "metadata": {
    "heading_collapsed": true,
    "hidden": true
   },
   "source": [
    "## Linear Regression"
   ]
  },
  {
   "cell_type": "markdown",
   "metadata": {
    "hidden": true
   },
   "source": [
    "Linear Regression is the most basic of regression techniques. I am using it due to the speed it takes to train a model. This allows me to see scores before applying them to the Gradient Boosted Model, which tends to do better but takes more time to train."
   ]
  },
  {
   "cell_type": "code",
   "execution_count": 10,
   "metadata": {
    "ExecuteTime": {
     "end_time": "2020-02-10T03:34:04.178632Z",
     "start_time": "2020-02-10T03:34:04.174793Z"
    },
    "hidden": true
   },
   "outputs": [],
   "source": [
    "param_grid = [{'mdl__normalize': [True,False],\n",
    "               'mdl__fit_intercept': [True,False]}\n",
    "             ]\n",
    "\n",
    "pipe = Pipeline([\n",
    "        ('features',FeatureUnion([\n",
    "            ('numeric_feats',ColumnSelector(cols=numerical)),\n",
    "            ('categorical_feats',Pipeline([\n",
    "                ('categories',ColumnSelector(cols=categorical)),\n",
    "                ('encoder',OneHotEncoder(handle_unknown='ignore',sparse=False)),\n",
    "            ]))\n",
    "        ])),\n",
    "        ('ft_scale',StandardScaler(with_mean=False)),\n",
    "        ('mdl',LinearRegression())\n",
    "])"
   ]
  },
  {
   "cell_type": "code",
   "execution_count": 11,
   "metadata": {
    "ExecuteTime": {
     "end_time": "2020-02-10T03:34:24.839956Z",
     "start_time": "2020-02-10T03:34:04.984897Z"
    },
    "hidden": true
   },
   "outputs": [
    {
     "name": "stdout",
     "output_type": "stream",
     "text": [
      "Fitting 100 folds for each of 4 candidates, totalling 400 fits\n"
     ]
    },
    {
     "name": "stderr",
     "output_type": "stream",
     "text": [
      "[Parallel(n_jobs=5)]: Using backend LokyBackend with 5 concurrent workers.\n",
      "[Parallel(n_jobs=5)]: Done  22 tasks      | elapsed:    1.6s\n",
      "[Parallel(n_jobs=5)]: Done 118 tasks      | elapsed:    6.2s\n",
      "[Parallel(n_jobs=5)]: Done 278 tasks      | elapsed:   13.9s\n",
      "[Parallel(n_jobs=5)]: Done 400 out of 400 | elapsed:   19.6s finished\n"
     ]
    },
    {
     "data": {
      "text/plain": [
       "GridSearchCV(cv=ShuffleSplit(n_splits=100, random_state=42, test_size=0.25, train_size=None),\n",
       "             error_score='raise',\n",
       "             estimator=Pipeline(memory=None,\n",
       "                                steps=[('features',\n",
       "                                        FeatureUnion(n_jobs=None,\n",
       "                                                     transformer_list=[('numeric_feats',\n",
       "                                                                        <__main__.ColumnSelector object at 0x7fab64f18c10>),\n",
       "                                                                       ('categorical_feats',\n",
       "                                                                        Pipeline(memory=None,\n",
       "                                                                                 steps=[('categories',\n",
       "                                                                                         <__main__.ColumnSe...\n",
       "                                        StandardScaler(copy=True,\n",
       "                                                       with_mean=False,\n",
       "                                                       with_std=True)),\n",
       "                                       ('mdl',\n",
       "                                        LinearRegression(copy_X=True,\n",
       "                                                         fit_intercept=True,\n",
       "                                                         n_jobs=None,\n",
       "                                                         normalize=False))],\n",
       "                                verbose=False),\n",
       "             iid='deprecated', n_jobs=5,\n",
       "             param_grid=[{'mdl__fit_intercept': [True, False],\n",
       "                          'mdl__normalize': [True, False]}],\n",
       "             pre_dispatch='2*n_jobs', refit=True, return_train_score=True,\n",
       "             scoring='neg_mean_absolute_error', verbose=3)"
      ]
     },
     "execution_count": 11,
     "metadata": {},
     "output_type": "execute_result"
    }
   ],
   "source": [
    "gs_dt = GridSearchCV(pipe,\n",
    "                    param_grid,\n",
    "                    scoring='neg_mean_absolute_error',\n",
    "                    return_train_score=True,\n",
    "                    cv=cv,n_jobs=5,verbose=3,error_score='raise')\n",
    "gs_dt.fit(X_train,y_train)"
   ]
  },
  {
   "cell_type": "code",
   "execution_count": 13,
   "metadata": {
    "ExecuteTime": {
     "end_time": "2020-02-10T03:34:29.215938Z",
     "start_time": "2020-02-10T03:34:29.212902Z"
    },
    "hidden": true
   },
   "outputs": [
    {
     "name": "stdout",
     "output_type": "stream",
     "text": [
      "Train Score: -65.35259371380612, Test Score: -65.6359562450615\n"
     ]
    }
   ],
   "source": [
    "\"\"\"\n",
    "First Model: Linear Regression with MSE -435.9\n",
    "After getting rid of outliers and only keeping ClaimAmounts within .15 and.85 quantiles\n",
    "2nd Mode: Linear Regression with Train Score: -84.34484502328665, Test Score: -84.55708379303553 \n",
    "3rd Linear Regression: Train Score: -84.22301290538599, Test Score: -84.47510896566668\n",
    "-added in species and breed as I forgot those in firstpass of fts\n",
    "4th Linear: Train Score: -107.43126314041506, Test Score: -107.93260471233896\n",
    "-fts 3.0 made the model more complex causing it to do more poorly\n",
    "5th Linear: Train Score: -69.05771131405827, Test Score: -69.8702634668454\n",
    "-fts 4.0 and smaller population\n",
    "6th Linear: Train Score: -65.35259371380612, Test Score: -65.6359562450615\n",
    "-fts 5.0\n",
    "\"\"\"\n",
    "\n",
    "estimator,model,params,test_score,train_score = best_params(gs_dt)\n",
    "print('Train Score: {}, Test Score: {}'.format(train_score,test_score))"
   ]
  },
  {
   "cell_type": "markdown",
   "metadata": {
    "heading_collapsed": true,
    "hidden": true
   },
   "source": [
    "## Ridge  Regressions"
   ]
  },
  {
   "cell_type": "markdown",
   "metadata": {
    "hidden": true
   },
   "source": [
    "I create and develop a Ridge Regression Model. First, I plot alpha values with Mean Squared Error to try to minimize MSE. This will give me a range of alpha values that I can use for my GridSearch"
   ]
  },
  {
   "cell_type": "code",
   "execution_count": 15,
   "metadata": {
    "ExecuteTime": {
     "end_time": "2020-02-09T22:17:19.254927Z",
     "start_time": "2020-02-09T22:16:29.348638Z"
    },
    "hidden": true
   },
   "outputs": [
    {
     "data": {
      "text/plain": [
       "<matplotlib.axes._subplots.AxesSubplot at 0x7f2450f2ad10>"
      ]
     },
     "execution_count": 15,
     "metadata": {},
     "output_type": "execute_result"
    },
    {
     "data": {
      "image/png": "[encoded data removed]",
      "text/plain": [
       "<Figure size 432x288 with 1 Axes>"
      ]
     },
     "metadata": {
      "needs_background": "light"
     },
     "output_type": "display_data"
    }
   ],
   "source": [
    "np.random.seed(42)\n",
    "\n",
    "#Ridge Regression Alpha value using cross_val_score\n",
    "alphas = np.logspace(-1, 5, 20)\n",
    "x = build_dummies(DF[features],categorical)\n",
    "\n",
    "ridge_models = pd.DataFrame(\n",
    "    [(alpha,\n",
    "      \"Ridge Regression with alpha = %f\" % alpha, \n",
    "      compute_error(Ridge(alpha=alpha), x, y,cv)) for alpha in alphas],\n",
    "    columns=['alpha', 'Model', 'MSE'])\n",
    "ridge_models.plot(x='alpha', y='MSE', logx=True, title='MSE')"
   ]
  },
  {
   "cell_type": "code",
   "execution_count": 16,
   "metadata": {
    "ExecuteTime": {
     "end_time": "2020-02-09T22:17:26.272930Z",
     "start_time": "2020-02-09T22:17:26.268985Z"
    },
    "hidden": true
   },
   "outputs": [],
   "source": [
    "param_grid = [{'mdl__normalize': [True,False],\n",
    "               'mdl__fit_intercept': [True,False],\n",
    "               'mdl__alpha': np.logspace(2, 4, 20)\n",
    "              }\n",
    "        ]\n",
    "\n",
    "pipe = Pipeline([\n",
    "        ('features',FeatureUnion([\n",
    "            ('numeric_feats',ColumnSelector(cols=numerical)),\n",
    "            ('categorical_feats',Pipeline([\n",
    "                ('categories',ColumnSelector(cols=categorical)),\n",
    "                ('encoder',OneHotEncoder(handle_unknown='ignore',sparse=False)),\n",
    "            ]))\n",
    "        ])),\n",
    "        ('ft_scale',StandardScaler(with_mean=False)),\n",
    "        ('mdl',Ridge())\n",
    "])"
   ]
  },
  {
   "cell_type": "code",
   "execution_count": 17,
   "metadata": {
    "ExecuteTime": {
     "end_time": "2020-02-09T22:23:00.179920Z",
     "start_time": "2020-02-09T22:17:26.889161Z"
    },
    "hidden": true
   },
   "outputs": [
    {
     "name": "stdout",
     "output_type": "stream",
     "text": [
      "Fitting 100 folds for each of 80 candidates, totalling 8000 fits\n"
     ]
    },
    {
     "name": "stderr",
     "output_type": "stream",
     "text": [
      "[Parallel(n_jobs=5)]: Using backend LokyBackend with 5 concurrent workers.\n",
      "[Parallel(n_jobs=5)]: Done  22 tasks      | elapsed:    1.4s\n",
      "[Parallel(n_jobs=5)]: Done 118 tasks      | elapsed:    5.0s\n",
      "[Parallel(n_jobs=5)]: Done 278 tasks      | elapsed:   11.2s\n",
      "[Parallel(n_jobs=5)]: Done 502 tasks      | elapsed:   20.6s\n",
      "[Parallel(n_jobs=5)]: Done 790 tasks      | elapsed:   32.2s\n",
      "[Parallel(n_jobs=5)]: Done 1142 tasks      | elapsed:   46.5s\n",
      "[Parallel(n_jobs=5)]: Done 1558 tasks      | elapsed:  1.1min\n",
      "[Parallel(n_jobs=5)]: Done 2038 tasks      | elapsed:  1.4min\n",
      "[Parallel(n_jobs=5)]: Done 2582 tasks      | elapsed:  1.7min\n",
      "[Parallel(n_jobs=5)]: Done 3190 tasks      | elapsed:  2.2min\n",
      "[Parallel(n_jobs=5)]: Done 3862 tasks      | elapsed:  2.7min\n",
      "[Parallel(n_jobs=5)]: Done 4598 tasks      | elapsed:  3.2min\n",
      "[Parallel(n_jobs=5)]: Done 5398 tasks      | elapsed:  3.8min\n",
      "[Parallel(n_jobs=5)]: Done 6262 tasks      | elapsed:  4.3min\n",
      "[Parallel(n_jobs=5)]: Done 7190 tasks      | elapsed:  5.0min\n",
      "[Parallel(n_jobs=5)]: Done 8000 out of 8000 | elapsed:  5.6min finished\n"
     ]
    },
    {
     "data": {
      "text/plain": [
       "GridSearchCV(cv=ShuffleSplit(n_splits=100, random_state=42, test_size=0.25, train_size=None),\n",
       "             error_score='raise',\n",
       "             estimator=Pipeline(memory=None,\n",
       "                                steps=[('features',\n",
       "                                        FeatureUnion(n_jobs=None,\n",
       "                                                     transformer_list=[('numeric_feats',\n",
       "                                                                        <__main__.ColumnSelector object at 0x7f2451044250>),\n",
       "                                                                       ('categorical_feats',\n",
       "                                                                        Pipeline(memory=None,\n",
       "                                                                                 steps=[('categories',\n",
       "                                                                                         <__main__.ColumnSe...\n",
       "         263.66508987,   335.98182863,   428.13323987,   545.55947812,\n",
       "         695.19279618,   885.86679041,  1128.83789168,  1438.44988829,\n",
       "        1832.98071083,  2335.72146909,  2976.35144163,  3792.69019073,\n",
       "        4832.93023857,  6158.48211066,  7847.59970351, 10000.        ]),\n",
       "                          'mdl__fit_intercept': [True, False],\n",
       "                          'mdl__normalize': [True, False]}],\n",
       "             pre_dispatch='2*n_jobs', refit=True, return_train_score=True,\n",
       "             scoring='neg_mean_absolute_error', verbose=3)"
      ]
     },
     "execution_count": 17,
     "metadata": {},
     "output_type": "execute_result"
    }
   ],
   "source": [
    "gs_dt = GridSearchCV(pipe,\n",
    "                    param_grid,\n",
    "                    scoring='neg_mean_absolute_error',\n",
    "                    return_train_score=True,\n",
    "                    cv=cv,n_jobs=5,verbose=3,error_score='raise')\n",
    "gs_dt.fit(X_train,y_train)"
   ]
  },
  {
   "cell_type": "code",
   "execution_count": 21,
   "metadata": {
    "ExecuteTime": {
     "end_time": "2020-02-09T22:27:04.318985Z",
     "start_time": "2020-02-09T22:27:04.312699Z"
    },
    "hidden": true
   },
   "outputs": [
    {
     "name": "stdout",
     "output_type": "stream",
     "text": [
      "Train Score: -65.36187022355301, Test Score: -65.62592003207712\n"
     ]
    }
   ],
   "source": [
    "\"\"\"\n",
    "Ridge Regression Model (1stModel): Train Score: -83.13196512256529, Test Score: -83.24339901402183\n",
    "Ridge Regression Model (2nd Model) : Train Score: -82.90493096123082, Test Score: -83.01895029736687\n",
    "-Re-did some of the features, didn't calculate previous claims correctly before\n",
    "-Still kept quantiles .2 and .8 to eliminate outliers\n",
    "Ridge Regression Model (3rd Model): Train Score: -83.24680274524906, Test Score: -83.36952057997398\n",
    "-fts 2.0\n",
    "Ridge Model (4th): Train Score: -68.94175417661921, Test Score: -69.30057653242189\n",
    "-fts 4.0\n",
    "Ridge Model (5th): Train Score: -65.36187022355301, Test Score: -65.62592003207712\n",
    "-fts 5.0\n",
    "\"\"\"\n",
    "estimator,model,params,test_score,train_score = best_params(gs_dt)\n",
    "print('Train Score: {}, Test Score: {}'.format(train_score,test_score))"
   ]
  },
  {
   "cell_type": "markdown",
   "metadata": {
    "heading_collapsed": true,
    "hidden": true
   },
   "source": [
    "## Version 3: XGBoost"
   ]
  },
  {
   "cell_type": "markdown",
   "metadata": {
    "hidden": true
   },
   "source": [
    "This is my gradient boosted regression model using XGBoost. Pros of XGBoost allows for better execution speeds and model performance. Each subsequent model created will be added to it previous weak learners. Each subsequent model will try  to add correct errors made previously by other models before it. "
   ]
  },
  {
   "cell_type": "code",
   "execution_count": 8,
   "metadata": {
    "ExecuteTime": {
     "end_time": "2020-02-10T05:39:09.863145Z",
     "start_time": "2020-02-10T05:39:09.815852Z"
    },
    "hidden": true
   },
   "outputs": [],
   "source": [
    "from xgboost import XGBRegressor"
   ]
  },
  {
   "cell_type": "code",
   "execution_count": 11,
   "metadata": {
    "ExecuteTime": {
     "end_time": "2020-02-10T05:39:27.566366Z",
     "start_time": "2020-02-10T05:39:27.562434Z"
    },
    "hidden": true
   },
   "outputs": [],
   "source": [
    "param_grid = [{'mdl__max_depth': [2,4,6],\n",
    "               'mdl__learning_rate': np.arange(.1,.22,.02),\n",
    "               'mdl__n_estimators': [20,50,100]\n",
    "              }\n",
    "        ]\n",
    "\n",
    "pipe = Pipeline([\n",
    "        ('features',FeatureUnion([\n",
    "            ('numeric_feats',ColumnSelector(cols=numerical)),\n",
    "            ('categorical_feats',Pipeline([\n",
    "                ('categories',ColumnSelector(cols=categorical)),\n",
    "                ('encoder',OneHotEncoder(handle_unknown='ignore',sparse=False)),\n",
    "            ]))\n",
    "        ])),\n",
    "        ('ft_scale',StandardScaler(with_mean=True)),\n",
    "        ('mdl',XGBRegressor(min_child_weight=1,\n",
    "                            random_state=42,\n",
    "                            verbose=1,\n",
    "                            objective='reg:squarederror'))\n",
    "])"
   ]
  },
  {
   "cell_type": "code",
   "execution_count": 12,
   "metadata": {
    "ExecuteTime": {
     "end_time": "2020-02-10T06:19:53.418382Z",
     "start_time": "2020-02-10T05:39:29.351703Z"
    },
    "hidden": true
   },
   "outputs": [
    {
     "name": "stdout",
     "output_type": "stream",
     "text": [
      "Fitting 100 folds for each of 54 candidates, totalling 5400 fits\n"
     ]
    },
    {
     "name": "stderr",
     "output_type": "stream",
     "text": [
      "[Parallel(n_jobs=2)]: Using backend LokyBackend with 2 concurrent workers.\n",
      "[Parallel(n_jobs=2)]: Done  28 tasks      | elapsed:    4.4s\n",
      "[Parallel(n_jobs=2)]: Done 124 tasks      | elapsed:   20.0s\n",
      "[Parallel(n_jobs=2)]: Done 284 tasks      | elapsed:  1.3min\n",
      "[Parallel(n_jobs=2)]: Done 508 tasks      | elapsed:  2.5min\n",
      "[Parallel(n_jobs=2)]: Done 796 tasks      | elapsed:  4.9min\n",
      "[Parallel(n_jobs=2)]: Done 1148 tasks      | elapsed:  7.7min\n",
      "[Parallel(n_jobs=2)]: Done 1564 tasks      | elapsed: 10.6min\n",
      "[Parallel(n_jobs=2)]: Done 2044 tasks      | elapsed: 14.5min\n",
      "[Parallel(n_jobs=2)]: Done 2588 tasks      | elapsed: 18.4min\n",
      "[Parallel(n_jobs=2)]: Done 3196 tasks      | elapsed: 22.6min\n",
      "[Parallel(n_jobs=2)]: Done 3868 tasks      | elapsed: 28.1min\n",
      "[Parallel(n_jobs=2)]: Done 4604 tasks      | elapsed: 33.9min\n",
      "[Parallel(n_jobs=2)]: Done 5400 out of 5400 | elapsed: 40.4min finished\n"
     ]
    },
    {
     "data": {
      "text/plain": [
       "GridSearchCV(cv=ShuffleSplit(n_splits=100, random_state=42, test_size=0.25, train_size=None),\n",
       "             error_score='raise',\n",
       "             estimator=Pipeline(memory=None,\n",
       "                                steps=[('features',\n",
       "                                        FeatureUnion(n_jobs=None,\n",
       "                                                     transformer_list=[('numeric_feats',\n",
       "                                                                        <__main__.ColumnSelector object at 0x7f8e9b1c0810>),\n",
       "                                                                       ('categorical_feats',\n",
       "                                                                        Pipeline(memory=None,\n",
       "                                                                                 steps=[('categories',\n",
       "                                                                                         <__main__.ColumnSe...\n",
       "                                                     scale_pos_weight=1,\n",
       "                                                     seed=None, silent=None,\n",
       "                                                     subsample=1, verbose=1,\n",
       "                                                     verbosity=1))],\n",
       "                                verbose=False),\n",
       "             iid='deprecated', n_jobs=2,\n",
       "             param_grid=[{'mdl__learning_rate': array([0.1 , 0.12, 0.14, 0.16, 0.18, 0.2 ]),\n",
       "                          'mdl__max_depth': [2, 4, 6],\n",
       "                          'mdl__n_estimators': [20, 50, 100]}],\n",
       "             pre_dispatch='2*n_jobs', refit=True, return_train_score=True,\n",
       "             scoring='neg_mean_absolute_error', verbose=3)"
      ]
     },
     "execution_count": 12,
     "metadata": {},
     "output_type": "execute_result"
    }
   ],
   "source": [
    "gs_dt = GridSearchCV(pipe,\n",
    "                    param_grid,\n",
    "                    scoring='neg_mean_absolute_error',\n",
    "                    return_train_score=True,\n",
    "                    cv=cv,n_jobs=2,verbose=3,error_score='raise')\n",
    "gs_dt.fit(X_train,y_train)"
   ]
  },
  {
   "cell_type": "code",
   "execution_count": 15,
   "metadata": {
    "ExecuteTime": {
     "end_time": "2020-02-10T06:23:43.674595Z",
     "start_time": "2020-02-10T06:23:43.669499Z"
    },
    "hidden": true
   },
   "outputs": [
    {
     "name": "stdout",
     "output_type": "stream",
     "text": [
      "Train Score: -58.64477859175682, Test Score: -61.16395602796486\n"
     ]
    }
   ],
   "source": [
    "\"\"\"\n",
    "XGBoost Regression Model (1st Model): Train Score: -78.23114354701887, Test Score: -80.70723277660375\n",
    "XGBoost Regreesion (2nd):Train Score: -78.04236184800338, Test Score: -80.57903280015569\n",
    "-using fts 2.0\n",
    "XGBoost reg (3rd): Train Score: -57.78508463847379, Test Score: -62.96848157586415\n",
    "-fts 4.0\n",
    "XGBoost Regression (4th): Train Score: -58.64477859175682, Test Score: -61.16395602796486\n",
    "-fts 5.0\n",
    "\"\"\"\n",
    "estimator,model,params,test_score,train_score = best_params(gs_dt)\n",
    "print('Train Score: {}, Test Score: {}'.format(train_score,test_score))\n",
    "\n",
    "import pickle\n",
    "pickle.dump(gs_dt,open('./xgboostregessor.pkl','wb'))"
   ]
  },
  {
   "cell_type": "markdown",
   "metadata": {
    "heading_collapsed": true,
    "hidden": true
   },
   "source": [
    "## Model Evaluation"
   ]
  },
  {
   "cell_type": "code",
   "execution_count": 60,
   "metadata": {
    "ExecuteTime": {
     "end_time": "2020-02-10T18:20:33.466301Z",
     "start_time": "2020-02-10T18:20:33.448561Z"
    },
    "hidden": true
   },
   "outputs": [],
   "source": [
    "import pickle\n",
    "gs_dt = pickle.load(open('./xgboostregessor.pkl','rb'))"
   ]
  },
  {
   "cell_type": "markdown",
   "metadata": {
    "hidden": true
   },
   "source": [
    "The Model Evaluation will use the best scored model, which is the Gradient Boosted Regressor"
   ]
  },
  {
   "cell_type": "code",
   "execution_count": 61,
   "metadata": {
    "ExecuteTime": {
     "end_time": "2020-02-10T18:20:37.083016Z",
     "start_time": "2020-02-10T18:20:36.832348Z"
    },
    "hidden": true
   },
   "outputs": [
    {
     "name": "stdout",
     "output_type": "stream",
     "text": [
      "R^2 Test: 0.06315\n",
      "RMSE Test: 74.97347\n"
     ]
    },
    {
     "data": {
      "image/png": "[encoded data removed]",
      "text/plain": [
       "<Figure size 576x576 with 1 Axes>"
      ]
     },
     "metadata": {
      "needs_background": "light"
     },
     "output_type": "display_data"
    }
   ],
   "source": [
    "output='ClaimAmount'\n",
    "pred = gs_dt.predict(X_test)\n",
    "pred_df = pd.DataFrame(list(zip(X_test.index,pred)),columns=['id','pred_out'])\n",
    "eval_df = pred_df.merge(DF[features+[output]],right_index=True,left_on='id').set_index('id')\n",
    "eval_df['residuals'] = eval_df.pred_out-eval_df.ClaimAmount\n",
    "RegModelEval(eval_df,n=len(y_test),show=True,output=output)"
   ]
  },
  {
   "cell_type": "markdown",
   "metadata": {
    "ExecuteTime": {
     "end_time": "2020-02-08T01:24:21.339040Z",
     "start_time": "2020-02-08T01:24:21.308925Z"
    },
    "hidden": true
   },
   "source": [
    "Looking at the residuals plot, one can observe that the residuals are not symmetric about 0. In fact there doesn't seem to be any pattern where most predictions are 0. The RSME doesn't seem too bad on a individual claim level, but the fit is bad"
   ]
  },
  {
   "cell_type": "code",
   "execution_count": 62,
   "metadata": {
    "ExecuteTime": {
     "end_time": "2020-02-10T18:21:32.681217Z",
     "start_time": "2020-02-10T18:21:32.483682Z"
    },
    "hidden": true
   },
   "outputs": [
    {
     "name": "stdout",
     "output_type": "stream",
     "text": [
      "Standard Deviation of Residuals: 74.04964888314582\n"
     ]
    },
    {
     "data": {
      "image/png": "[encoded data removed]",
      "text/plain": [
       "<Figure size 576x576 with 1 Axes>"
      ]
     },
     "metadata": {
      "needs_background": "light"
     },
     "output_type": "display_data"
    }
   ],
   "source": [
    "residuals = y_test-pred\n",
    "residuals.hist(bins=50)\n",
    "print('Standard Deviation of Residuals: {}'.format(residuals.std()))"
   ]
  },
  {
   "cell_type": "markdown",
   "metadata": {
    "hidden": true
   },
   "source": [
    "Residuals are not distributed normally are skewed towards the left. "
   ]
  },
  {
   "cell_type": "code",
   "execution_count": 63,
   "metadata": {
    "ExecuteTime": {
     "end_time": "2020-02-10T18:21:34.592554Z",
     "start_time": "2020-02-10T18:21:34.382731Z"
    },
    "hidden": true
   },
   "outputs": [
    {
     "data": {
      "text/plain": [
       "<matplotlib.axes._subplots.AxesSubplot at 0x7f379d627890>"
      ]
     },
     "execution_count": 63,
     "metadata": {},
     "output_type": "execute_result"
    },
    {
     "data": {
      "image/png": "[encoded data removed]",
      "text/plain": [
       "<Figure size 720x360 with 1 Axes>"
      ]
     },
     "metadata": {
      "needs_background": "light"
     },
     "output_type": "display_data"
    }
   ],
   "source": [
    "#plotting z scores to show lack of symmetry about 0\n",
    "df_z =(residuals/residuals.std()).to_frame()\n",
    "df_z.rename(columns={'ClaimAmount': 'z_score'},inplace=True)\n",
    "df_z = DF[['ClaimDate']].merge(df_z,left_index=True,right_index=True)\n",
    "df_z.plot(x='ClaimDate',y='z_score',figsize=(10,5))"
   ]
  },
  {
   "cell_type": "markdown",
   "metadata": {
    "hidden": true
   },
   "source": [
    "Z scores are not symmetric about 0, suggesting regression is probably not the best model. "
   ]
  },
  {
   "cell_type": "code",
   "execution_count": 64,
   "metadata": {
    "ExecuteTime": {
     "end_time": "2020-02-10T18:21:36.823444Z",
     "start_time": "2020-02-10T18:21:36.819762Z"
    },
    "hidden": true
   },
   "outputs": [],
   "source": [
    "#The z scores > 2 tend to show outliers. \n",
    "#outliers_df = eval_df.merge(df_z.loc[df_z.z_score>2],left_index=True,right_index=True)"
   ]
  },
  {
   "cell_type": "code",
   "execution_count": 65,
   "metadata": {
    "ExecuteTime": {
     "end_time": "2020-02-10T18:21:40.636097Z",
     "start_time": "2020-02-10T18:21:40.461586Z"
    },
    "hidden": true
   },
   "outputs": [
    {
     "name": "stdout",
     "output_type": "stream",
     "text": [
      "R^2 Test: 0.16449\n",
      "RMSE Test: 42.12635\n"
     ]
    },
    {
     "data": {
      "image/png": "[encoded data removed]",
      "text/plain": [
       "<Figure size 576x576 with 1 Axes>"
      ]
     },
     "metadata": {
      "needs_background": "light"
     },
     "output_type": "display_data"
    }
   ],
   "source": [
    "test_df = eval_df.merge(df_z.loc[(df_z.z_score > -1)& (df_z.z_score < 1)],left_index=True,right_index=True)\n",
    "RegModelEval(test_df,n=test_df.shape[0],show=True,output=output)"
   ]
  },
  {
   "cell_type": "markdown",
   "metadata": {
    "hidden": true
   },
   "source": [
    "Calculate the Prediction Interval"
   ]
  },
  {
   "cell_type": "code",
   "execution_count": 66,
   "metadata": {
    "ExecuteTime": {
     "end_time": "2020-02-10T18:21:46.293248Z",
     "start_time": "2020-02-10T18:21:46.288518Z"
    },
    "hidden": true
   },
   "outputs": [
    {
     "name": "stdout",
     "output_type": "stream",
     "text": [
      "Prediction Interval: 49.909\n"
     ]
    }
   ],
   "source": [
    "#Using 50% confidence interval where Zcr * stddev because the model doesn't spell confidence\n",
    "#Zcr = 50%: .674,60%:.841 70%: 1.04, 80%: 1.28, 95: 1.96\n",
    "interval = .674* residuals.std()\n",
    "eval_df['upper_pred'] = eval_df.pred_out + interval\n",
    "eval_df['lower_pred'] = eval_df.pred_out - interval\n",
    "print('Prediction Interval: {:.3f}'.format(interval))"
   ]
  },
  {
   "cell_type": "code",
   "execution_count": 67,
   "metadata": {
    "ExecuteTime": {
     "end_time": "2020-02-10T18:21:46.638315Z",
     "start_time": "2020-02-10T18:21:46.628661Z"
    },
    "hidden": true
   },
   "outputs": [
    {
     "data": {
      "text/html": [
       "<div>\n",
       "<style scoped>\n",
       "    .dataframe tbody tr th:only-of-type {\n",
       "        vertical-align: middle;\n",
       "    }\n",
       "\n",
       "    .dataframe tbody tr th {\n",
       "        vertical-align: top;\n",
       "    }\n",
       "\n",
       "    .dataframe thead th {\n",
       "        text-align: right;\n",
       "    }\n",
       "</style>\n",
       "<table border=\"1\" class=\"dataframe\">\n",
       "  <thead>\n",
       "    <tr style=\"text-align: right;\">\n",
       "      <th></th>\n",
       "      <th>ClaimAmount</th>\n",
       "      <th>pred_out</th>\n",
       "      <th>upper_pred</th>\n",
       "      <th>lower_pred</th>\n",
       "      <th>residuals</th>\n",
       "    </tr>\n",
       "    <tr>\n",
       "      <th>id</th>\n",
       "      <th></th>\n",
       "      <th></th>\n",
       "      <th></th>\n",
       "      <th></th>\n",
       "      <th></th>\n",
       "    </tr>\n",
       "  </thead>\n",
       "  <tbody>\n",
       "    <tr>\n",
       "      <th>21833</th>\n",
       "      <td>71.16</td>\n",
       "      <td>146.070511</td>\n",
       "      <td>195.979974</td>\n",
       "      <td>96.161048</td>\n",
       "      <td>74.910511</td>\n",
       "    </tr>\n",
       "    <tr>\n",
       "      <th>31444</th>\n",
       "      <td>103.14</td>\n",
       "      <td>150.072556</td>\n",
       "      <td>199.982019</td>\n",
       "      <td>100.163092</td>\n",
       "      <td>46.932556</td>\n",
       "    </tr>\n",
       "    <tr>\n",
       "      <th>18435</th>\n",
       "      <td>99.19</td>\n",
       "      <td>140.238480</td>\n",
       "      <td>190.147943</td>\n",
       "      <td>90.329016</td>\n",
       "      <td>41.048480</td>\n",
       "    </tr>\n",
       "    <tr>\n",
       "      <th>5212</th>\n",
       "      <td>192.40</td>\n",
       "      <td>147.327988</td>\n",
       "      <td>197.237451</td>\n",
       "      <td>97.418524</td>\n",
       "      <td>-45.072012</td>\n",
       "    </tr>\n",
       "    <tr>\n",
       "      <th>6795</th>\n",
       "      <td>267.17</td>\n",
       "      <td>172.197617</td>\n",
       "      <td>222.107080</td>\n",
       "      <td>122.288153</td>\n",
       "      <td>-94.972383</td>\n",
       "    </tr>\n",
       "    <tr>\n",
       "      <th>33128</th>\n",
       "      <td>95.22</td>\n",
       "      <td>128.553589</td>\n",
       "      <td>178.463052</td>\n",
       "      <td>78.644126</td>\n",
       "      <td>33.333589</td>\n",
       "    </tr>\n",
       "    <tr>\n",
       "      <th>13444</th>\n",
       "      <td>251.76</td>\n",
       "      <td>139.182449</td>\n",
       "      <td>189.091913</td>\n",
       "      <td>89.272986</td>\n",
       "      <td>-112.577551</td>\n",
       "    </tr>\n",
       "    <tr>\n",
       "      <th>31100</th>\n",
       "      <td>117.18</td>\n",
       "      <td>135.571671</td>\n",
       "      <td>185.481134</td>\n",
       "      <td>85.662207</td>\n",
       "      <td>18.391671</td>\n",
       "    </tr>\n",
       "    <tr>\n",
       "      <th>30888</th>\n",
       "      <td>179.40</td>\n",
       "      <td>148.392517</td>\n",
       "      <td>198.301980</td>\n",
       "      <td>98.483054</td>\n",
       "      <td>-31.007483</td>\n",
       "    </tr>\n",
       "    <tr>\n",
       "      <th>31415</th>\n",
       "      <td>272.93</td>\n",
       "      <td>154.585251</td>\n",
       "      <td>204.494714</td>\n",
       "      <td>104.675788</td>\n",
       "      <td>-118.344749</td>\n",
       "    </tr>\n",
       "  </tbody>\n",
       "</table>\n",
       "</div>"
      ],
      "text/plain": [
       "       ClaimAmount    pred_out  upper_pred  lower_pred   residuals\n",
       "id                                                                \n",
       "21833        71.16  146.070511  195.979974   96.161048   74.910511\n",
       "31444       103.14  150.072556  199.982019  100.163092   46.932556\n",
       "18435        99.19  140.238480  190.147943   90.329016   41.048480\n",
       "5212        192.40  147.327988  197.237451   97.418524  -45.072012\n",
       "6795        267.17  172.197617  222.107080  122.288153  -94.972383\n",
       "33128        95.22  128.553589  178.463052   78.644126   33.333589\n",
       "13444       251.76  139.182449  189.091913   89.272986 -112.577551\n",
       "31100       117.18  135.571671  185.481134   85.662207   18.391671\n",
       "30888       179.40  148.392517  198.301980   98.483054  -31.007483\n",
       "31415       272.93  154.585251  204.494714  104.675788 -118.344749"
      ]
     },
     "execution_count": 67,
     "metadata": {},
     "output_type": "execute_result"
    }
   ],
   "source": [
    "eval_df[['ClaimAmount','pred_out','upper_pred','lower_pred','residuals']].head(10)"
   ]
  },
  {
   "cell_type": "markdown",
   "metadata": {
    "heading_collapsed": true,
    "hidden": true
   },
   "source": [
    "## Strategy 1 final results"
   ]
  },
  {
   "cell_type": "code",
   "execution_count": 43,
   "metadata": {
    "ExecuteTime": {
     "end_time": "2020-02-10T06:31:41.392962Z",
     "start_time": "2020-02-10T06:31:41.363825Z"
    },
    "hidden": true,
    "scrolled": true
   },
   "outputs": [],
   "source": [
    "#Get all petid enrolled in July 2019\n",
    "july = datetime.strptime('2019-07-31','%Y-%m-%d')\n",
    "july_ids = pet_df.loc[(pet_df.EnrollDate <= july) & ~(pet_df.CancelDate <= july)].sort_values(['EnrollDate','CancelDate'])\n",
    "\n",
    "claim_df = pd.read_csv('./claimdata.csv',parse_dates=['ClaimDate'])\n",
    "#DF = claim_df.merge(pet_df,on='PetId') \n",
    "#july_ids = july_ids.merge(claim_df,how='left',on='PetId')"
   ]
  },
  {
   "cell_type": "code",
   "execution_count": 44,
   "metadata": {
    "ExecuteTime": {
     "end_time": "2020-02-10T06:31:42.753009Z",
     "start_time": "2020-02-10T06:31:41.935210Z"
    },
    "hidden": true
   },
   "outputs": [],
   "source": [
    "#Get relevant info for input values\n",
    "july_ids['ClaimMonth'] = 'July'\n",
    "july_ids['ClaimYear']  = 2019\n",
    "july_ids['ClaimDate'] = datetime.strptime('2019-07-31','%Y-%m-%d')\n",
    "july_ids['EnrollMonth'] = july_ids.apply(lambda row: row.EnrollDate.month_name(),axis=1)\n",
    "july_ids['EnrollYear'] = july_ids.apply(lambda row: row.EnrollDate.year,axis=1)\n",
    "july_ids['EstEnrollAge'] = july_ids.apply(lambda row: ages[row.AgeAtEnroll],axis=1)\n",
    "july_ids['DaysFromEnroll'] = july_ids.apply(lambda row:(row.ClaimDate-row.EnrollDate).days , axis=1)\n",
    "july_ids['YearsFromEnroll'] = round(july_ids.DaysFromEnroll/365.0).astype(int)\n",
    "july_ids['MonthsFromEnroll'] = july_ids.apply(lambda row:int(round((row.ClaimDate-row.EnrollDate).days/365*12)) , axis=1)\n",
    "july_ids['EstCurrentAge'] = july_ids.EstEnrollAge + july_ids.YearsFromEnroll\n",
    "\n",
    "max_previousclaims = DF[['PetId','PreviousClaims']].groupby(['PetId'])[['PreviousClaims']].max()\n",
    "max_claims2019 = DF.loc[(DF.ClaimDate<=july) & (DF.ClaimYear==2019)][['PetId','PreviousClaimsYear']].groupby(['PetId'])[['PreviousClaimsYear']].max()\n",
    "\n",
    "#Get Avg visits per year for petId \n",
    "#Get Avg Claim Amt per visit per year\n",
    "#get average claim amount for breed & species\n",
    "averages = DF[['PetId','AvgYearlyVisits','AvgYearlyClaimAmt']].drop_duplicates()\n",
    "breed_df = DF[['PetId','Breed','Species','AvgYearlyBreedSpeciesClaimAmt']].drop_duplicates()"
   ]
  },
  {
   "cell_type": "code",
   "execution_count": 45,
   "metadata": {
    "ExecuteTime": {
     "end_time": "2020-02-10T06:31:44.816155Z",
     "start_time": "2020-02-10T06:31:44.714650Z"
    },
    "hidden": true
   },
   "outputs": [],
   "source": [
    "df2 = july_ids.merge(max_previousclaims,how='left',on='PetId')\n",
    "df2 = df2.merge(max_claims2019,how='left',on='PetId')\n",
    "df2 = df2.merge(averages,how='left',on='PetId')\n",
    "df2 = df2.merge(breed_df,how='left',on=['PetId','Breed','Species'])\n",
    "#if a petid has never filed a claim than they have no visits, claimamts, or previous claims\n",
    "df2.fillna(0,inplace=True) "
   ]
  },
  {
   "cell_type": "code",
   "execution_count": 46,
   "metadata": {
    "ExecuteTime": {
     "end_time": "2020-02-10T06:31:45.639020Z",
     "start_time": "2020-02-10T06:31:45.633967Z"
    },
    "hidden": true
   },
   "outputs": [],
   "source": [
    "#determining categorical and numerical features\n",
    "categorical = ['ClaimMonth',\n",
    "               'ClaimYear',\n",
    "               'EnrollMonth',\n",
    "               'EnrollYear',\n",
    "               'Species',\n",
    "               'Breed'\n",
    "              ]\n",
    "numerical = ['PreviousClaims',\n",
    "             'EstCurrentAge',\n",
    "             'EstEnrollAge',\n",
    "             'MonthsFromEnroll',\n",
    "             'PreviousClaimsYear',\n",
    "             'AvgYearlyVisits',\n",
    "             'AvgYearlyClaimAmt',\n",
    "             'AvgYearlyBreedSpeciesClaimAmt'\n",
    "            ]\n",
    "features = categorical + numerical\n",
    "input_test = df2[features]"
   ]
  },
  {
   "cell_type": "code",
   "execution_count": 48,
   "metadata": {
    "ExecuteTime": {
     "end_time": "2020-02-10T06:32:02.438128Z",
     "start_time": "2020-02-10T06:32:02.431210Z"
    },
    "hidden": true
   },
   "outputs": [
    {
     "data": {
      "text/plain": [
       "248599.03693260386"
      ]
     },
     "execution_count": 48,
     "metadata": {},
     "output_type": "execute_result"
    }
   ],
   "source": [
    "interval*4981"
   ]
  },
  {
   "cell_type": "code",
   "execution_count": 57,
   "metadata": {
    "ExecuteTime": {
     "end_time": "2020-02-10T06:39:26.941901Z",
     "start_time": "2020-02-10T06:39:26.917630Z"
    },
    "hidden": true
   },
   "outputs": [
    {
     "name": "stdout",
     "output_type": "stream",
     "text": [
      "Expected Claim Amount with 50% Confidence Level between $254,120.65 - $751,318.72\n",
      "The Expected Claim Amount for July 2019: $502,719.69\n",
      "The Total Number of Currently Enrolled PetIds at Start of July: 4981\n",
      "Expected Claim Amount per PetId with 50% Confidence Level between $51.02 - $150.84\n",
      "Expected Claim Amount per PetId: $100.93\n",
      "\n",
      "January - July 2017 Total Claim Amount: $301,025.39\n",
      "January - July 2018 Total Claim Amount: $347,256.59\n",
      "January - July 2019 Total Claim Amount: $832,110.95\n"
     ]
    }
   ],
   "source": [
    "expected_claim_total = gs_dt.predict(input_test).sum()\n",
    "enrolled_july = enroll_df.loc[(enroll_df.Month=='July') & (enroll_df.Year==2019)].Enrolled.values[0]\n",
    "claim_per_pet = expected_claim_total/enrolled_july\n",
    "upper = expected_claim_total+interval*enrolled_july\n",
    "lower = expected_claim_total-interval*enrolled_july\n",
    "upper_petid = upper/enrolled_july\n",
    "lower_petid = lower/enrolled_july\n",
    "print('Expected Claim Amount with 50% Confidence Level between ${:,.2f} - ${:,.2f}'.format(lower,upper))\n",
    "print('The Expected Claim Amount for July 2019: ${:,.2f}'.format(expected_claim_total))\n",
    "print('The Total Number of Currently Enrolled PetIds at Start of July: {}'.format(enrolled_july))\n",
    "print('Expected Claim Amount per PetId with 50% Confidence Level between ${:,.2f} - ${:,.2f}'.format(lower_petid,upper_petid))\n",
    "print('Expected Claim Amount per PetId: ${:,.2f}'.format(claim_per_pet))\n",
    "\n",
    "#sanity check\n",
    "jan_july2017_amt = DF.loc[(DF.ClaimMonthNum.isin(np.arange(1,8))) & (DF.ClaimYear==2017)].ClaimAmount.sum()\n",
    "jan_july2018_amt = DF.loc[(DF.ClaimMonthNum.isin(np.arange(1,8))) & (DF.ClaimYear==2018)].ClaimAmount.sum()\n",
    "jan_june2019_amt = DF.loc[(DF.ClaimMonthNum.isin(np.arange(1,7))) & (DF.ClaimYear==2019)].ClaimAmount.sum()\n",
    "\n",
    "print('\\nJanuary - July 2017 Total Claim Amount: ${:,.2f}'.format(jan_july2017_amt))\n",
    "print('January - July 2018 Total Claim Amount: ${:,.2f}'.format(jan_july2018_amt))\n",
    "print('January - July 2019 Total Claim Amount: ${:,.2f}'.format(jan_june2019_amt+expected_claim_total))"
   ]
  },
  {
   "cell_type": "markdown",
   "metadata": {
    "hidden": true
   },
   "source": [
    "Using a 50% confidence interval, I predict that for the time July 2019 Trupanion would expect to receive between \\\\$254,120.65 - \\\\$751,318.72. In July 2019 there are 4981 pets enrolled, and the claim per pet id would be between \\\\$51.02 - \\\\$150.84.\n",
    "\n",
    "While the total amount expected of \\\\$502,719.69 is way overestimating the expected amount Trupanion is most likely to receive. The Expected Claim Amount per PetId sounds a bit more reasonable because normally you would expect all pets to make claims in one month. Out of the 4981 enrolled pets, only 1680 have filed previous claims. Due to the results, I would not personally recommend this particular model to run in production due to the errors. "
   ]
  },
  {
   "cell_type": "markdown",
   "metadata": {},
   "source": [
    "# Modeling Strategy 2"
   ]
  },
  {
   "cell_type": "markdown",
   "metadata": {},
   "source": [
    "Modeling Strategy Recap\n",
    "\n",
    "I want to reduce the data to a claim month,year level and try to predict the total amount of claims for July 2019. Because there is large amount of correlation and regression in total sum of claims as a function of time. Rather than trying to predict all the PetId amount individually I just sum up what we expect to get total for July 2019 and then using all the pets currently enrolled get a value per petId\n"
   ]
  },
  {
   "cell_type": "code",
   "execution_count": 11,
   "metadata": {
    "ExecuteTime": {
     "end_time": "2020-02-10T17:44:50.259978Z",
     "start_time": "2020-02-10T17:44:50.254985Z"
    }
   },
   "outputs": [],
   "source": [
    "#cross validation\n",
    "#test/validation set being 25% of the 80% of training size being 20% of the original set of data. \n",
    "cv = ShuffleSplit(n_splits=100,test_size=.25,random_state=42)"
   ]
  },
  {
   "cell_type": "markdown",
   "metadata": {},
   "source": [
    "## Linear Regression"
   ]
  },
  {
   "cell_type": "markdown",
   "metadata": {},
   "source": [
    "I expect a linear regression to be quite powerful for this particular strategy due to the linear correlations in relationships"
   ]
  },
  {
   "cell_type": "code",
   "execution_count": 12,
   "metadata": {
    "ExecuteTime": {
     "end_time": "2020-02-10T17:44:54.116640Z",
     "start_time": "2020-02-10T17:44:54.112880Z"
    }
   },
   "outputs": [],
   "source": [
    "param_grid = [{'mdl__normalize': [True,False],\n",
    "               'mdl__fit_intercept': [True,False]}\n",
    "             ]\n",
    "\n",
    "pipe = Pipeline([\n",
    "        ('features',FeatureUnion([\n",
    "            ('numeric_feats',ColumnSelector(cols=numerical)),\n",
    "            ('categorical_feats',Pipeline([\n",
    "                ('categories',ColumnSelector(cols=categorical)),\n",
    "                ('encoder',OneHotEncoder(handle_unknown='ignore',sparse=False)),\n",
    "            ]))\n",
    "        ])),\n",
    "        ('ft_scale',StandardScaler(with_mean=False)),\n",
    "        ('mdl',LinearRegression())\n",
    "])"
   ]
  },
  {
   "cell_type": "code",
   "execution_count": 21,
   "metadata": {
    "ExecuteTime": {
     "end_time": "2020-02-10T17:54:22.066401Z",
     "start_time": "2020-02-10T17:54:21.095334Z"
    }
   },
   "outputs": [
    {
     "name": "stdout",
     "output_type": "stream",
     "text": [
      "Fitting 100 folds for each of 4 candidates, totalling 400 fits\n"
     ]
    },
    {
     "name": "stderr",
     "output_type": "stream",
     "text": [
      "[Parallel(n_jobs=5)]: Using backend LokyBackend with 5 concurrent workers.\n",
      "[Parallel(n_jobs=5)]: Done  38 tasks      | elapsed:    0.2s\n",
      "[Parallel(n_jobs=5)]: Done 378 tasks      | elapsed:    0.9s\n",
      "[Parallel(n_jobs=5)]: Done 400 out of 400 | elapsed:    0.9s finished\n"
     ]
    },
    {
     "data": {
      "text/plain": [
       "GridSearchCV(cv=ShuffleSplit(n_splits=100, random_state=42, test_size=0.25, train_size=None),\n",
       "             error_score='raise',\n",
       "             estimator=Pipeline(memory=None,\n",
       "                                steps=[('features',\n",
       "                                        FeatureUnion(n_jobs=None,\n",
       "                                                     transformer_list=[('numeric_feats',\n",
       "                                                                        <__main__.ColumnSelector object at 0x7f37a667ee90>),\n",
       "                                                                       ('categorical_feats',\n",
       "                                                                        Pipeline(memory=None,\n",
       "                                                                                 steps=[('categories',\n",
       "                                                                                         <__main__.ColumnSe...\n",
       "                                        StandardScaler(copy=True,\n",
       "                                                       with_mean=False,\n",
       "                                                       with_std=True)),\n",
       "                                       ('mdl',\n",
       "                                        LinearRegression(copy_X=True,\n",
       "                                                         fit_intercept=True,\n",
       "                                                         n_jobs=None,\n",
       "                                                         normalize=False))],\n",
       "                                verbose=False),\n",
       "             iid='deprecated', n_jobs=5,\n",
       "             param_grid=[{'mdl__fit_intercept': [True, False],\n",
       "                          'mdl__normalize': [True, False]}],\n",
       "             pre_dispatch='2*n_jobs', refit=True, return_train_score=True,\n",
       "             scoring='explained_variance', verbose=3)"
      ]
     },
     "execution_count": 21,
     "metadata": {},
     "output_type": "execute_result"
    }
   ],
   "source": [
    "gs_dt2 = GridSearchCV(pipe,\n",
    "                    param_grid,\n",
    "                    scoring='explained_variance',\n",
    "                    return_train_score=True,\n",
    "                    cv=cv,n_jobs=5,verbose=3,error_score='raise')\n",
    "gs_dt2.fit(X_train,y_train)"
   ]
  },
  {
   "cell_type": "code",
   "execution_count": 22,
   "metadata": {
    "ExecuteTime": {
     "end_time": "2020-02-10T17:54:23.300411Z",
     "start_time": "2020-02-10T17:54:23.297071Z"
    }
   },
   "outputs": [
    {
     "name": "stdout",
     "output_type": "stream",
     "text": [
      "Train Score: 0.9708329439788298, Test Score: 0.9390539036117437\n"
     ]
    }
   ],
   "source": [
    "\"\"\"\n",
    "Linear Regression (1st): Train Score: 0.9708329439788298, Test Score: 0.9390539036117437\n",
    "\"\"\"\n",
    "\n",
    "estimator,model,params,test_score,train_score = best_params(gs_dt2)\n",
    "print('Train Score: {}, Test Score: {}'.format(train_score,test_score))"
   ]
  },
  {
   "cell_type": "markdown",
   "metadata": {},
   "source": [
    "The values seem to show a great predictive indictor in linear relationship. However, it does show signs of overfitting and this can be a result of smaller data size for training. It doesn't have as much data to generalize. "
   ]
  },
  {
   "cell_type": "markdown",
   "metadata": {},
   "source": [
    "## Model Evaluation for Strategy 2"
   ]
  },
  {
   "cell_type": "code",
   "execution_count": 28,
   "metadata": {
    "ExecuteTime": {
     "end_time": "2020-02-10T17:56:42.848961Z",
     "start_time": "2020-02-10T17:56:42.690457Z"
    }
   },
   "outputs": [
    {
     "name": "stdout",
     "output_type": "stream",
     "text": [
      "R^2 Test: 0.91909\n",
      "RMSE Test: 29837.23281\n"
     ]
    },
    {
     "data": {
      "image/png": "[encoded data removed]",
      "text/plain": [
       "<Figure size 576x576 with 1 Axes>"
      ]
     },
     "metadata": {
      "needs_background": "light"
     },
     "output_type": "display_data"
    }
   ],
   "source": [
    "output='ClaimAmtTotal'\n",
    "pred = gs_dt2.predict(X_test)\n",
    "pred_df = pd.DataFrame(list(zip(X_test.index,pred)),columns=['id','pred_out'])\n",
    "eval_df = pred_df.merge(DF[features+[output]],right_index=True,left_on='id').set_index('id')\n",
    "eval_df['residuals'] = eval_df.pred_out-eval_df.ClaimAmtTotal\n",
    "RegModelEval(eval_df,n=len(y_test),show=True,output=output)"
   ]
  },
  {
   "cell_type": "markdown",
   "metadata": {},
   "source": [
    "Great $R^2$ value, it is greater than .9, but the mean squared error is very large. The error is quite large. The model fits well with out data but produces errors, which is to be expected with small training and test data sizes. "
   ]
  },
  {
   "cell_type": "code",
   "execution_count": 29,
   "metadata": {
    "ExecuteTime": {
     "end_time": "2020-02-10T17:58:41.739790Z",
     "start_time": "2020-02-10T17:58:41.551655Z"
    }
   },
   "outputs": [
    {
     "name": "stdout",
     "output_type": "stream",
     "text": [
      "Standard Deviation of Residuals: 30497.73924672768\n"
     ]
    },
    {
     "data": {
      "image/png": "[encoded data removed]",
      "text/plain": [
       "<Figure size 576x576 with 1 Axes>"
      ]
     },
     "metadata": {
      "needs_background": "light"
     },
     "output_type": "display_data"
    }
   ],
   "source": [
    "residuals = y_test-pred\n",
    "residuals.hist(bins=50)\n",
    "print('Standard Deviation of Residuals: {}'.format(residuals.std()))"
   ]
  },
  {
   "cell_type": "markdown",
   "metadata": {},
   "source": [
    "The residuals don't seem to be normally distributed."
   ]
  },
  {
   "cell_type": "code",
   "execution_count": 30,
   "metadata": {
    "ExecuteTime": {
     "end_time": "2020-02-10T17:58:43.194804Z",
     "start_time": "2020-02-10T17:58:43.034527Z"
    }
   },
   "outputs": [
    {
     "data": {
      "text/plain": [
       "<matplotlib.axes._subplots.AxesSubplot at 0x7f37dc8ca850>"
      ]
     },
     "execution_count": 30,
     "metadata": {},
     "output_type": "execute_result"
    },
    {
     "data": {
      "image/png": "[encoded data removed]",
      "text/plain": [
       "<Figure size 720x360 with 1 Axes>"
      ]
     },
     "metadata": {
      "needs_background": "light"
     },
     "output_type": "display_data"
    }
   ],
   "source": [
    "df_z =(residuals/residuals.std()).to_frame()\n",
    "df_z.rename(columns={output: 'z_score'},inplace=True)\n",
    "df_z = DF[['Date']].merge(df_z,left_index=True,right_index=True)\n",
    "df_z.plot(x='Date',y='z_score',figsize=(10,5))"
   ]
  },
  {
   "cell_type": "code",
   "execution_count": 32,
   "metadata": {
    "ExecuteTime": {
     "end_time": "2020-02-10T18:01:42.327053Z",
     "start_time": "2020-02-10T18:01:42.315468Z"
    }
   },
   "outputs": [
    {
     "data": {
      "text/html": [
       "<div>\n",
       "<style scoped>\n",
       "    .dataframe tbody tr th:only-of-type {\n",
       "        vertical-align: middle;\n",
       "    }\n",
       "\n",
       "    .dataframe tbody tr th {\n",
       "        vertical-align: top;\n",
       "    }\n",
       "\n",
       "    .dataframe thead th {\n",
       "        text-align: right;\n",
       "    }\n",
       "</style>\n",
       "<table border=\"1\" class=\"dataframe\">\n",
       "  <thead>\n",
       "    <tr style=\"text-align: right;\">\n",
       "      <th></th>\n",
       "      <th>pred_out</th>\n",
       "      <th>ClaimMonth</th>\n",
       "      <th>ClaimYear</th>\n",
       "      <th>Enrolled</th>\n",
       "      <th>ClaimAmtTotal</th>\n",
       "      <th>residuals</th>\n",
       "    </tr>\n",
       "    <tr>\n",
       "      <th>id</th>\n",
       "      <th></th>\n",
       "      <th></th>\n",
       "      <th></th>\n",
       "      <th></th>\n",
       "      <th></th>\n",
       "      <th></th>\n",
       "    </tr>\n",
       "  </thead>\n",
       "  <tbody>\n",
       "    <tr>\n",
       "      <th>111</th>\n",
       "      <td>204940.822133</td>\n",
       "      <td>September</td>\n",
       "      <td>2016</td>\n",
       "      <td>4373</td>\n",
       "      <td>172248.01</td>\n",
       "      <td>32692.812133</td>\n",
       "    </tr>\n",
       "    <tr>\n",
       "      <th>77</th>\n",
       "      <td>5293.460265</td>\n",
       "      <td>May</td>\n",
       "      <td>2010</td>\n",
       "      <td>181</td>\n",
       "      <td>1219.05</td>\n",
       "      <td>4074.410265</td>\n",
       "    </tr>\n",
       "    <tr>\n",
       "      <th>80</th>\n",
       "      <td>61815.043477</td>\n",
       "      <td>May</td>\n",
       "      <td>2013</td>\n",
       "      <td>1795</td>\n",
       "      <td>55903.65</td>\n",
       "      <td>5911.393477</td>\n",
       "    </tr>\n",
       "    <tr>\n",
       "      <th>101</th>\n",
       "      <td>150351.761643</td>\n",
       "      <td>October</td>\n",
       "      <td>2015</td>\n",
       "      <td>3767</td>\n",
       "      <td>203014.12</td>\n",
       "      <td>-52662.358357</td>\n",
       "    </tr>\n",
       "    <tr>\n",
       "      <th>87</th>\n",
       "      <td>16529.810770</td>\n",
       "      <td>November</td>\n",
       "      <td>2010</td>\n",
       "      <td>442</td>\n",
       "      <td>8936.59</td>\n",
       "      <td>7593.220770</td>\n",
       "    </tr>\n",
       "  </tbody>\n",
       "</table>\n",
       "</div>"
      ],
      "text/plain": [
       "          pred_out ClaimMonth  ClaimYear  Enrolled  ClaimAmtTotal     residuals\n",
       "id                                                                             \n",
       "111  204940.822133  September       2016      4373      172248.01  32692.812133\n",
       "77     5293.460265        May       2010       181        1219.05   4074.410265\n",
       "80    61815.043477        May       2013      1795       55903.65   5911.393477\n",
       "101  150351.761643    October       2015      3767      203014.12 -52662.358357\n",
       "87    16529.810770   November       2010       442        8936.59   7593.220770"
      ]
     },
     "execution_count": 32,
     "metadata": {},
     "output_type": "execute_result"
    }
   ],
   "source": [
    "eval_df.head()"
   ]
  },
  {
   "cell_type": "markdown",
   "metadata": {},
   "source": [
    "The Z-scores aren't symmetric about 0. The data doesn't seem so bad from 2010-2014 but 2015+ is when more claims happened and the expected claim amount start to grow. "
   ]
  },
  {
   "cell_type": "code",
   "execution_count": 34,
   "metadata": {
    "ExecuteTime": {
     "end_time": "2020-02-10T18:02:16.323067Z",
     "start_time": "2020-02-10T18:02:16.150584Z"
    }
   },
   "outputs": [
    {
     "name": "stdout",
     "output_type": "stream",
     "text": [
      "R^2 Test: 0.89476\n",
      "RMSE Test: 10667.84038\n"
     ]
    },
    {
     "data": {
      "image/png": "[encoded data removed]",
      "text/plain": [
       "<Figure size 576x576 with 1 Axes>"
      ]
     },
     "metadata": {
      "needs_background": "light"
     },
     "output_type": "display_data"
    }
   ],
   "source": [
    "test_df = eval_df.loc[eval_df.ClaimYear<2015]\n",
    "RegModelEval(test_df,n=test_df.shape[0],show=True,output=output)"
   ]
  },
  {
   "cell_type": "markdown",
   "metadata": {},
   "source": [
    "You can see that if you only look at data pre-2015 the fit and RMSE do better. "
   ]
  },
  {
   "cell_type": "code",
   "execution_count": 35,
   "metadata": {
    "ExecuteTime": {
     "end_time": "2020-02-10T18:02:28.406258Z",
     "start_time": "2020-02-10T18:02:28.245755Z"
    }
   },
   "outputs": [
    {
     "name": "stdout",
     "output_type": "stream",
     "text": [
      "R^2 Test: 0.51878\n",
      "RMSE Test: 41680.99284\n"
     ]
    },
    {
     "data": {
      "image/png": "[encoded data removed]",
      "text/plain": [
       "<Figure size 576x576 with 1 Axes>"
      ]
     },
     "metadata": {
      "needs_background": "light"
     },
     "output_type": "display_data"
    }
   ],
   "source": [
    "test_df = eval_df.loc[eval_df.ClaimYear>2014]#eval_df.merge(df_z.loc[(df_z.z_score > -1)& (df_z.z_score < 1)],left_index=True,right_index=True)\n",
    "RegModelEval(test_df,n=test_df.shape[0],show=True,output=output)"
   ]
  },
  {
   "cell_type": "markdown",
   "metadata": {},
   "source": [
    "However, 2015+ you begin to start to see larger errors and less fit to the data."
   ]
  },
  {
   "cell_type": "code",
   "execution_count": 36,
   "metadata": {
    "ExecuteTime": {
     "end_time": "2020-02-10T18:03:45.918350Z",
     "start_time": "2020-02-10T18:03:45.910629Z"
    }
   },
   "outputs": [
    {
     "name": "stdout",
     "output_type": "stream",
     "text": [
      "Prediction Interval: 59775.569\n"
     ]
    }
   ],
   "source": [
    "#Using 95% confidence interval where Zcr * stddev\n",
    "#Zr values are 50%: .674, 60%:.841 70%: 1.04, 80%: 1.28, 95%: 1.96\n",
    "interval = 1.96* residuals.std()\n",
    "eval_df['upper_pred'] = eval_df.pred_out + interval\n",
    "eval_df['lower_pred'] = eval_df.pred_out - interval\n",
    "print('Prediction Interval: {:.3f}'.format(interval))"
   ]
  },
  {
   "cell_type": "code",
   "execution_count": 37,
   "metadata": {
    "ExecuteTime": {
     "end_time": "2020-02-10T18:03:54.888674Z",
     "start_time": "2020-02-10T18:03:54.880793Z"
    }
   },
   "outputs": [],
   "source": [
    "to_plot = eval_df.merge(DF[['ClaimMonth','ClaimYear','Date']],on=['ClaimYear','ClaimMonth'])\n",
    "to_plot.rename(columns={'pred_out': 'Predicted','ClaimAmtTotal':'Actual'},inplace=True)"
   ]
  },
  {
   "cell_type": "code",
   "execution_count": 38,
   "metadata": {
    "ExecuteTime": {
     "end_time": "2020-02-10T18:03:55.966352Z",
     "start_time": "2020-02-10T18:03:55.784631Z"
    }
   },
   "outputs": [
    {
     "data": {
      "text/plain": [
       "Text(0, 0.5, 'ClaimAmount')"
      ]
     },
     "execution_count": 38,
     "metadata": {},
     "output_type": "execute_result"
    },
    {
     "data": {
      "image/png": "[encoded data removed]",
      "text/plain": [
       "<Figure size 576x576 with 1 Axes>"
      ]
     },
     "metadata": {
      "needs_background": "light"
     },
     "output_type": "display_data"
    }
   ],
   "source": [
    "to_plot.plot(x='Date',y=['Predicted','Actual'])\n",
    "plt.ylabel('ClaimAmount')"
   ]
  },
  {
   "cell_type": "markdown",
   "metadata": {},
   "source": [
    "## Strategy 2 Final Results"
   ]
  },
  {
   "cell_type": "code",
   "execution_count": 47,
   "metadata": {
    "ExecuteTime": {
     "end_time": "2020-02-10T18:09:54.877009Z",
     "start_time": "2020-02-10T18:09:54.866712Z"
    }
   },
   "outputs": [
    {
     "data": {
      "text/html": [
       "<div>\n",
       "<style scoped>\n",
       "    .dataframe tbody tr th:only-of-type {\n",
       "        vertical-align: middle;\n",
       "    }\n",
       "\n",
       "    .dataframe tbody tr th {\n",
       "        vertical-align: top;\n",
       "    }\n",
       "\n",
       "    .dataframe thead th {\n",
       "        text-align: right;\n",
       "    }\n",
       "</style>\n",
       "<table border=\"1\" class=\"dataframe\">\n",
       "  <thead>\n",
       "    <tr style=\"text-align: right;\">\n",
       "      <th></th>\n",
       "      <th>ClaimMonth</th>\n",
       "      <th>ClaimYear</th>\n",
       "      <th>TotalVisits</th>\n",
       "      <th>ClaimAmtTotal</th>\n",
       "      <th>Year</th>\n",
       "      <th>Month</th>\n",
       "      <th>Date</th>\n",
       "      <th>Enrolled</th>\n",
       "    </tr>\n",
       "  </thead>\n",
       "  <tbody>\n",
       "    <tr>\n",
       "      <th>45</th>\n",
       "      <td>January</td>\n",
       "      <td>2017</td>\n",
       "      <td>510</td>\n",
       "      <td>226559.78</td>\n",
       "      <td>2017</td>\n",
       "      <td>January</td>\n",
       "      <td>2017-01-31</td>\n",
       "      <td>4457</td>\n",
       "    </tr>\n",
       "    <tr>\n",
       "      <th>35</th>\n",
       "      <td>February</td>\n",
       "      <td>2017</td>\n",
       "      <td>528</td>\n",
       "      <td>212184.26</td>\n",
       "      <td>2017</td>\n",
       "      <td>February</td>\n",
       "      <td>2017-02-27</td>\n",
       "      <td>4461</td>\n",
       "    </tr>\n",
       "    <tr>\n",
       "      <th>74</th>\n",
       "      <td>March</td>\n",
       "      <td>2017</td>\n",
       "      <td>573</td>\n",
       "      <td>214764.54</td>\n",
       "      <td>2017</td>\n",
       "      <td>March</td>\n",
       "      <td>2017-03-31</td>\n",
       "      <td>4445</td>\n",
       "    </tr>\n",
       "    <tr>\n",
       "      <th>7</th>\n",
       "      <td>April</td>\n",
       "      <td>2017</td>\n",
       "      <td>528</td>\n",
       "      <td>190884.84</td>\n",
       "      <td>2017</td>\n",
       "      <td>April</td>\n",
       "      <td>2017-04-30</td>\n",
       "      <td>4442</td>\n",
       "    </tr>\n",
       "    <tr>\n",
       "      <th>84</th>\n",
       "      <td>May</td>\n",
       "      <td>2017</td>\n",
       "      <td>541</td>\n",
       "      <td>174763.51</td>\n",
       "      <td>2017</td>\n",
       "      <td>May</td>\n",
       "      <td>2017-05-31</td>\n",
       "      <td>4446</td>\n",
       "    </tr>\n",
       "    <tr>\n",
       "      <th>64</th>\n",
       "      <td>June</td>\n",
       "      <td>2017</td>\n",
       "      <td>583</td>\n",
       "      <td>238039.42</td>\n",
       "      <td>2017</td>\n",
       "      <td>June</td>\n",
       "      <td>2017-06-30</td>\n",
       "      <td>4463</td>\n",
       "    </tr>\n",
       "    <tr>\n",
       "      <th>55</th>\n",
       "      <td>July</td>\n",
       "      <td>2017</td>\n",
       "      <td>549</td>\n",
       "      <td>198520.29</td>\n",
       "      <td>2017</td>\n",
       "      <td>July</td>\n",
       "      <td>2017-07-31</td>\n",
       "      <td>4487</td>\n",
       "    </tr>\n",
       "  </tbody>\n",
       "</table>\n",
       "</div>"
      ],
      "text/plain": [
       "   ClaimMonth  ClaimYear  TotalVisits  ClaimAmtTotal  Year     Month       Date  Enrolled\n",
       "45    January       2017          510      226559.78  2017   January 2017-01-31      4457\n",
       "35   February       2017          528      212184.26  2017  February 2017-02-27      4461\n",
       "74      March       2017          573      214764.54  2017     March 2017-03-31      4445\n",
       "7       April       2017          528      190884.84  2017     April 2017-04-30      4442\n",
       "84        May       2017          541      174763.51  2017       May 2017-05-31      4446\n",
       "64       June       2017          583      238039.42  2017      June 2017-06-30      4463\n",
       "55       July       2017          549      198520.29  2017      July 2017-07-31      4487"
      ]
     },
     "execution_count": 47,
     "metadata": {},
     "output_type": "execute_result"
    }
   ],
   "source": [
    "DF.loc[(DF.ClaimMonth.isin(mths)) & (DF.ClaimYear==2017)]"
   ]
  },
  {
   "cell_type": "code",
   "execution_count": 55,
   "metadata": {
    "ExecuteTime": {
     "end_time": "2020-02-10T18:13:13.394607Z",
     "start_time": "2020-02-10T18:13:13.378861Z"
    }
   },
   "outputs": [
    {
     "name": "stdout",
     "output_type": "stream",
     "text": [
      "Expected Claim Amount with 95% Confidence Level between $257,150.28 - $376,701.41\n",
      "The Expected Claim Amount for July 2019: $316,925.84\n",
      "The Total Number of Currently Enrolled PetIds at Start of July: 4981\n",
      "Expected Claim Amount per PetId with 95% Confidence Level between $51.63 - $75.63\n",
      "Expected Claim Amount per PetId: $63.63\n",
      "\n",
      "January - July 2017 Total Claim Amount: $198,520.29\n",
      "January - July 2018 Total Claim Amount: $333,238.84\n",
      "January - July 2019 Expected Total Claim Amount: $316,925.84\n"
     ]
    }
   ],
   "source": [
    "#Predict What the total Claim Amount sum would be for July 2019\n",
    "#Predict with 95% confidence/prediction interval for standard range\n",
    "test = pd.DataFrame({'ClaimMonth': ['July'], 'ClaimYear': [2019], 'Enrolled': [4981]})\n",
    "expected_claim_total = gs_dt2.predict(test)[0]\n",
    "enrolled_july = enroll_df.loc[(enroll_df.Month=='July') & (enroll_df.Year==2019)].Enrolled.values[0]\n",
    "claim_per_pet = expected_claim_total/enrolled_july\n",
    "upper = expected_claim_total+interval\n",
    "lower = expected_claim_total-interval\n",
    "upper_petid = upper/enrolled_july\n",
    "lower_petid = lower/enrolled_july\n",
    "print('Expected Claim Amount with 95% Confidence Level between ${:,.2f} - ${:,.2f}'.format(lower,upper))\n",
    "print('The Expected Claim Amount for July 2019: ${:,.2f}'.format(expected_claim_total))\n",
    "print('The Total Number of Currently Enrolled PetIds at Start of July: {}'.format(enrolled_july))\n",
    "print('Expected Claim Amount per PetId with 95% Confidence Level between ${:,.2f} - ${:,.2f}'.format(lower_petid,upper_petid))\n",
    "print('Expected Claim Amount per PetId: ${:,.2f}'.format(claim_per_pet))\n",
    "\n",
    "#sanity check\n",
    "july2017_amt = DF.loc[(DF.ClaimMonth=='July') & (DF.ClaimYear==2017)].ClaimAmtTotal.values[0]\n",
    "july2018_amt = DF.loc[(DF.ClaimMonth=='July') & (DF.ClaimYear==2018)].ClaimAmtTotal.values[0]\n",
    "\n",
    "print('\\nJanuary - July 2017 Total Claim Amount: ${:,.2f}'.format(july2017_amt))\n",
    "print('January - July 2018 Total Claim Amount: ${:,.2f}'.format(july2018_amt))\n",
    "print('January - July 2019 Expected Total Claim Amount: ${:,.2f}'.format(expected_claim_total))"
   ]
  },
  {
   "cell_type": "markdown",
   "metadata": {},
   "source": [
    "Using a 95% confidence interval, I predict that for the time July 2019 would expect to receive between \\\\$257,150.28 - \\\\$376,701.41. In July 2019 there are 4981 pets enrolled, and the claim per pet id would be between \\\\$51.63 - \\\\$75.63.\n",
    "\n",
    "The results show a large mean square error, which can be attributed to less data to train on for this level. This error is noticeable as the expected value isn't higher than 2018's value which we would expect it to be. "
   ]
  },
  {
   "cell_type": "markdown",
   "metadata": {},
   "source": [
    "# Conclusion"
   ]
  },
  {
   "cell_type": "markdown",
   "metadata": {},
   "source": [
    "Comparing Strategy 1 to Strategy 2 provides some interesting insights. Although Strategy 2 has an amazing $R^2$ value close to .95-.97 and predicts an expected claim amount of \\\\$316,925.84 which is in line with what we would expect to receive compared with 2017, 2018 data. It does underestimate a bit. Also, it seems to underestimate the expected claims per petid considering the mean claim amount for pets seems to be around $150. \n",
    "\n",
    "This is in contrast to Strategy 1 that poorly predicts expected claim amount total for July 2019. To be within acceptable levels, we would have to use lower limits of prediction intervals to get values that align with 2017, 2018 claim data. However, it does produce a higher value for claim amount per pet id that would be much closer than strategy 2's value. \n",
    "\n",
    "If I had to choose a model to predict the expected claim amount total for July 2019 I would choose strategy/approach 2. As the result, confirms some of the exploratory analysis. \n",
    "\n",
    "### Final Results\n",
    "Expected Claim Amount with 95% Confidence Level between __\\\\$257,150.28 - \\\\$376,701.41__  \n",
    "The Expected Claim Amount for July 2019: __\\\\$316,925.84__  \n",
    "The Total Number of Currently Enrolled PetIds at Start of July: __4981__  \n",
    "Expected Claim Amount per PetId with 95\\% Confidence Level between __\\\\$51.63 - \\\\$75.63__  \n",
    "Expected Claim Amount per PetId: __\\\\$63.63__\n"
   ]
  },
  {
   "cell_type": "code",
   "execution_count": null,
   "metadata": {},
   "outputs": [],
   "source": []
  }
 ],
 "metadata": {
  "kernelspec": {
   "display_name": "core_env",
   "language": "python",
   "name": "venv"
  },
  "language_info": {
   "codemirror_mode": {
    "name": "ipython",
    "version": 3
   },
   "file_extension": ".py",
   "mimetype": "text/x-python",
   "name": "python",
   "nbconvert_exporter": "python",
   "pygments_lexer": "ipython3",
   "version": "3.7.5"
  },
  "latex_envs": {
   "LaTeX_envs_menu_present": true,
   "autoclose": false,
   "autocomplete": true,
   "bibliofile": "biblio.bib",
   "cite_by": "apalike",
   "current_citInitial": 1,
   "eqLabelWithNumbers": true,
   "eqNumInitial": 1,
   "hotkeys": {
    "equation": "Ctrl-E",
    "itemize": "Ctrl-I"
   },
   "labels_anchors": false,
   "latex_user_defs": false,
   "report_style_numbering": false,
   "user_envs_cfg": false
  }
 },
 "nbformat": 4,
 "nbformat_minor": 2
}
